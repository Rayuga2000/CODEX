{
 "cells": [
  {
   "cell_type": "code",
   "execution_count": null,
   "metadata": {},
   "outputs": [],
   "source": [
    "\"\"\"\n",
    "You are given three integers x,y,z representing the dimensions of a cuboid along with an integer n.\n",
    "Print a list of all possible coordinates given by the three integers on a 3D grid where the sum of x,y,z \n",
    "is not equal to n.\n",
    "\"\"\"\n",
    "x,y,z,n=map(int,input(\"Enter the values of x,y,z,n: \").split())\n",
    "list=[]\n",
    "\n",
    "for i in range(x+1):\n",
    "    for j in range(y+1):\n",
    "        for k in range(z+1):\n",
    "            if (i+j+k)!=n:\n",
    "                list.append([i,j,k])\n",
    "\n",
    "print(\"The coordinates are: \",list)\n"
   ]
  },
  {
   "cell_type": "code",
   "execution_count": null,
   "metadata": {},
   "outputs": [],
   "source": [
    "\"\"\"\n",
    "Given the participants' score sheet for your University Sports Day, you are required to find the runner-up score.\n",
    "\"\"\"\n",
    "l=list(map(int,input(\"Enter the scores: \").split()))\n",
    "\n",
    "l=sorted(l)\n",
    "\n",
    "\"\"\"for i in range(2,len(l)+1):\n",
    "    if l[-i] < l[-1] and l[-i]:\n",
    "        print(\"Runner up score: \",l[-i])\n",
    "        break\"\"\"\n",
    "for i in range(-2,-(len(l)+1),-1):\n",
    "    if l[i] < l[-1]:\n",
    "        print(\"Runner up score: \",l[i])\n",
    "        break\n"
   ]
  },
  {
   "cell_type": "code",
   "execution_count": null,
   "metadata": {},
   "outputs": [],
   "source": [
    "\"\"\"\n",
    "Print the name(s) of any student(s) having the second lowest grade in.\n",
    "If there are multiple students, order their names alphabetically and print each one on a new line.\n",
    "\"\"\"\n",
    "\n",
    "def sortList(student):\n",
    "    min=student[0]\n",
    "\n",
    "    for i in range(len(student)):\n",
    "        if student[i][-1]<min[-1]:\n",
    "            min=student[i]\n",
    "    return min\n",
    "\n",
    "student=[]\n",
    "n=int(input(\"Enter no. of students: \"))\n",
    "\n",
    "for i in range(n):\n",
    "    name=input()\n",
    "    score=float(input())\n",
    "    student.append([name,score])\n",
    "\n",
    "student.sort()\n",
    "min=sortList(student)\n",
    "\n",
    "y=[]\n",
    "x=[]\n",
    "\n",
    "for i in student:\n",
    "    if i[-1]!=min[-1]:\n",
    "        y.append(i)\n",
    "print(y)\n",
    "min=sortList(y)\n",
    "x.append(min)\n",
    "\n",
    "for i in range(len(y)):\n",
    "    if y[i][-1]==min[-1] and x.count(y[i])<1:\n",
    "        x.append(y[i])\n",
    "        \n",
    "\n",
    "print(x)"
   ]
  }
 ],
 "metadata": {
  "kernelspec": {
   "display_name": "Python 3.9.12 ('base')",
   "language": "python",
   "name": "python3"
  },
  "language_info": {
   "codemirror_mode": {
    "name": "ipython",
    "version": 3
   },
   "file_extension": ".py",
   "mimetype": "text/x-python",
   "name": "python",
   "nbconvert_exporter": "python",
   "pygments_lexer": "ipython3",
   "version": "3.9.12"
  },
  "orig_nbformat": 4,
  "vscode": {
   "interpreter": {
    "hash": "8217e151f2f5a58119fbba46315e5cfd0f68f6c4d670d3e01359472600e87705"
   }
  }
 },
 "nbformat": 4,
 "nbformat_minor": 2
}
