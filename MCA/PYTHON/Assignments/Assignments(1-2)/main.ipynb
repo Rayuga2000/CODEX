{
 "cells": [
  {
   "cell_type": "code",
   "execution_count": null,
   "metadata": {},
   "outputs": [],
   "source": [
    "#Assignment 1"
   ]
  },
  {
   "cell_type": "code",
   "execution_count": null,
   "metadata": {},
   "outputs": [],
   "source": [
    "a,b=input(\"Enter two Numbers: \").split()\n",
    "\n",
    "a=float(a)\n",
    "b=float(b)\n",
    "\n",
    "print(\"Sum: \",a+b)"
   ]
  },
  {
   "cell_type": "code",
   "execution_count": null,
   "metadata": {},
   "outputs": [],
   "source": [
    "n=int(input(\"Enter the Range: \"))\n",
    "\n",
    "a=0\n",
    "b=1\n",
    "\n",
    "print(\"The Fibonacci series are:\",end=\" \")\n",
    "print(\"0 1\",end=\" \")\n",
    "for i in range(n-2):\n",
    "    c=a+b\n",
    "    print(c,end=\" \")\n",
    "    a=b\n",
    "    b=c"
   ]
  },
  {
   "cell_type": "code",
   "execution_count": null,
   "metadata": {},
   "outputs": [],
   "source": [
    "n=int(input(\"Enter the Range: \"))\n",
    "\n",
    "for i in range(n):\n",
    "    print(\"*\"*i)"
   ]
  },
  {
   "cell_type": "code",
   "execution_count": null,
   "metadata": {},
   "outputs": [],
   "source": [
    "n=int(input(\"Enter the range: \"))\n",
    "\n",
    "for i in range(n,0,-1):\n",
    "    for j in range(i):\n",
    "        print(end=\" \")\n",
    "    print(\"*\"*((n+1)-i),end=\" \")\n",
    "    print()"
   ]
  },
  {
   "cell_type": "code",
   "execution_count": null,
   "metadata": {},
   "outputs": [],
   "source": [
    "#Assignment 2"
   ]
  },
  {
   "cell_type": "code",
   "execution_count": null,
   "metadata": {},
   "outputs": [],
   "source": [
    "n=int(input(\"Enter the range: \"))\n",
    "count=0\n",
    "\n",
    "for i in range(n):\n",
    "    for j in range(i+1):\n",
    "        print(count,end=\" \")\n",
    "        count=count+1\n",
    "    print()"
   ]
  },
  {
   "cell_type": "code",
   "execution_count": null,
   "metadata": {},
   "outputs": [],
   "source": [
    "n=int(input(\"Enter the range: \"))\n",
    "\n",
    "for i in range(n):\n",
    "    print(\" \"*(n-i),end=\"\")\n",
    "    for j in range(1,i+2):\n",
    "        print(j,end=\"\")\n",
    "    if(i!=0):\n",
    "        for k in range(i,0,-1):\n",
    "            print(k,end=\"\")\n",
    "    print()"
   ]
  },
  {
   "cell_type": "code",
   "execution_count": null,
   "metadata": {},
   "outputs": [],
   "source": [
    "n=int(input(\"Enter the range: \"))\n",
    "\n",
    "for i in range(n):\n",
    "    for j in range(1,i+2):\n",
    "        print(j,end=\" \")\n",
    "    print()"
   ]
  }
 ],
 "metadata": {
  "kernelspec": {
   "display_name": "Python 3.9.13 ('base')",
   "language": "python",
   "name": "python3"
  },
  "language_info": {
   "codemirror_mode": {
    "name": "ipython",
    "version": 3
   },
   "file_extension": ".py",
   "mimetype": "text/x-python",
   "name": "python",
   "nbconvert_exporter": "python",
   "pygments_lexer": "ipython3",
   "version": "3.9.13"
  },
  "orig_nbformat": 4,
  "vscode": {
   "interpreter": {
    "hash": "c5e844140b0ef273868662dafcc4b71806c603a7af8c17d0d208eae528d8a6a2"
   }
  }
 },
 "nbformat": 4,
 "nbformat_minor": 2
}
