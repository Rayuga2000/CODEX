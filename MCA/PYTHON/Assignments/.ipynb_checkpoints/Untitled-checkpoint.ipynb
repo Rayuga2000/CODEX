{
 "cells": [
  {
   "cell_type": "code",
   "execution_count": null,
   "id": "bc37784d",
   "metadata": {},
   "outputs": [],
   "source": [
    "#Assignment 1"
   ]
  },
  {
   "cell_type": "code",
   "execution_count": null,
   "id": "c9dd9f59",
   "metadata": {},
   "outputs": [],
   "source": [
    "a,b=input(\"Enter two Numbers: \").split()\n",
    "\n",
    "a=float(a)\n",
    "b=float(b)\n",
    "\n",
    "print(\"Sum: \",a+b)"
   ]
  },
  {
   "cell_type": "code",
   "execution_count": null,
   "id": "4c017fd9",
   "metadata": {},
   "outputs": [],
   "source": [
    "n=int(inpu(\"Enter the Range: \"))\n",
    "\n",
    "a=0\n",
    "b=1\n",
    "\n",
    "print(\"The Fibonacci series are:\",end=\" \")\n",
    "print(\"0 1\",end=\" \")\n",
    "for i in range(n-2):\n",
    "    c=a+b\n",
    "    print(c,end=\" \")\n",
    "    a=b\n",
    "    b=c"
   ]
  },
  {
   "cell_type": "code",
   "execution_count": null,
   "id": "f6e32ebb",
   "metadata": {},
   "outputs": [],
   "source": [
    "n=int(input(\"Enter the Range: \"))\n",
    "\n",
    "for i in range(n):\n",
    "    print(\"*\"*i)"
   ]
  },
  {
   "cell_type": "code",
   "execution_count": null,
   "id": "7d2ed226",
   "metadata": {},
   "outputs": [],
   "source": [
    "n=int(input(\"Enter the range: \"))\n",
    "\n",
    "for i in range(n,0,-1):\n",
    "    for j in range(i):\n",
    "        print(end=\" \")\n",
    "    print(\"*\"*((n+1)-i),end=\" \")\n",
    "    print()"
   ]
  },
  {
   "cell_type": "code",
   "execution_count": null,
   "id": "7ca06471",
   "metadata": {},
   "outputs": [],
   "source": [
    "#Assignment 2"
   ]
  },
  {
   "cell_type": "code",
   "execution_count": null,
   "id": "9175474e",
   "metadata": {},
   "outputs": [],
   "source": [
    "n=int(input(\"Enter the range: \"))\n",
    "count=0\n",
    "\n",
    "for i in range(n):\n",
    "    for j in range(i+1):\n",
    "        print(count,end=\" \")\n",
    "        count=count+1\n",
    "    print()"
   ]
  },
  {
   "cell_type": "code",
   "execution_count": null,
   "id": "5f5f2b67",
   "metadata": {},
   "outputs": [],
   "source": [
    "n=int(input(\"Enter the range: \"))\n",
    "\n",
    "for i in range(n):\n",
    "    print(\" \"*(n-i),end=\"\")\n",
    "    for j in range(1,i+2):\n",
    "        print(j,end=\"\")\n",
    "    if(i!=0):\n",
    "        for k in range(i,0,-1):\n",
    "            print(k,end=\"\")\n",
    "    print()"
   ]
  },
  {
   "cell_type": "code",
   "execution_count": null,
   "id": "29ab1e58",
   "metadata": {},
   "outputs": [],
   "source": [
    "n=int(input(\"Enter the range: \"))\n",
    "\n",
    "for i in range(n):\n",
    "    for j in range(1,i+2):\n",
    "        print(j,end=\" \")\n",
    "    print()"
   ]
  },
  {
   "cell_type": "code",
   "execution_count": null,
   "id": "8db9fa2e",
   "metadata": {},
   "outputs": [],
   "source": [
    "#Assignment 3"
   ]
  },
  {
   "cell_type": "code",
   "execution_count": null,
   "id": "c983fd8a",
   "metadata": {},
   "outputs": [],
   "source": [
    "#Data insertion, deletion and searching using lists\n",
    "\n",
    "choice=1\n",
    "l=[]\n",
    "\n",
    "while(choice>0):\n",
    "    print(\"\\n1) Enter\\n2) Search\\n3) Delete\\n4) Quit\")\n",
    "    choice=int(input(\"Enter a Choice: \"))\n",
    "    match choice:\n",
    "        case 1:\n",
    "            temp=input(\"Enter Data: \")\n",
    "            if temp in l:\n",
    "                print(\"Data already Added\")\n",
    "            else:\n",
    "                l.append(temp)\n",
    "                print(\"Data Added\")\n",
    "        case 2:\n",
    "            if len(l)!=0:\n",
    "                temp=input(\"Enter Data to Search: \")\n",
    "                i=0\n",
    "                while(i<len(l)):\n",
    "                    if l[i]==temp:\n",
    "                        print(\"Data found at position \"+str(i+1))\n",
    "                        break\n",
    "                    i+=1\n",
    "                if i==len(l):\n",
    "                    print(\"Data not Found!\")\n",
    "            else:\n",
    "                print(\"Data not Found!\")\n",
    "        case 3:\n",
    "            temp=input(\"Enter Data to Delete: \")\n",
    "            if temp in l:\n",
    "                l.remove(temp)\n",
    "                print(\"Data Deleted\")\n",
    "            else:\n",
    "                print(\"Data not Added/Deleted!\")\n",
    "        case 4:\n",
    "            print(\"Bye Bye ;)\")\n",
    "            break\n",
    "                "
   ]
  },
  {
   "cell_type": "code",
   "execution_count": null,
   "id": "1e5f70bf",
   "metadata": {},
   "outputs": [],
   "source": [
    "#Data insertion, deletion and searching using dictionary\n",
    "\n",
    "choice=1\n",
    "l=[]\n",
    "phonebook={}\n",
    "\n",
    "while(choice>0):\n",
    "    print(\"\\n1) Enter\\n2) Search\\n3) Delete\\n4) Quit\")\n",
    "    choice=int(input(\"Enter a Choice: \"))\n",
    "    if choice!=4:\n",
    "        name=input(\"Enter Name: \")\n",
    "\n",
    "    match choice:\n",
    "        case 1:\n",
    "            phone=input(\"Enter Phone no.: \")\n",
    "            if name in phonebook:\n",
    "                print(\"Data already exists\")\n",
    "            else:\n",
    "                phonebook[name]=phone\n",
    "                print(\"Data Added\")\n",
    "        case 2:\n",
    "            if name in phonebook:\n",
    "                print(name+\" : \"+phonebook[name])\n",
    "            else:\n",
    "                print(\"Data not Found!\")\n",
    "        case 3:\n",
    "            if name in phonebook:\n",
    "                phonebook.pop(name)\n",
    "                print(\"Data Deleted\")\n",
    "            else:\n",
    "                print(\"Data not Added/Deleted!\")\n",
    "        case 4:\n",
    "            print(\"Bye Bye ;)\")\n",
    "            break\n",
    "                "
   ]
  },
  {
   "cell_type": "code",
   "execution_count": null,
   "id": "c9ec6a3f",
   "metadata": {},
   "outputs": [],
   "source": [
    "#Assignment 4"
   ]
  },
  {
   "cell_type": "code",
   "execution_count": 12,
   "id": "72c42113",
   "metadata": {},
   "outputs": [
    {
     "name": "stdout",
     "output_type": "stream",
     "text": [
      "Enter the data: 1 6 51 3\n",
      "Sorted list is:  [1, 3, 6, 51]\n",
      "Enter data to search: 51\n",
      "Data found at position  4\n"
     ]
    }
   ],
   "source": [
    "#Binary search using recursion\n",
    "\n",
    "def bsearch(n,low,high):\n",
    "    if low<=high:\n",
    "        mid=(low+high)//2\n",
    "        if n==l[mid]:\n",
    "            return mid+1\n",
    "        elif n<l[mid]:\n",
    "            return bsearch(n,low,mid-1)\n",
    "        elif n>l[mid]:\n",
    "            return bsearch(n,mid+1,high)\n",
    "    else:\n",
    "        return False\n",
    "\n",
    "l=list(map(int,input(\"Enter the data: \").split()))\n",
    "l.sort()\n",
    "print(\"Sorted list is: \",l)\n",
    "n=int(input(\"Enter data to search: \"))\n",
    "\n",
    "temp=bsearch(n,0,len(l)-1)\n",
    "if temp:\n",
    "    print(\"Data found at position \",temp)\n",
    "else:\n",
    "    print(\"Data not found!\")"
   ]
  },
  {
   "cell_type": "code",
   "execution_count": 9,
   "id": "631c79da",
   "metadata": {},
   "outputs": [
    {
     "name": "stdout",
     "output_type": "stream",
     "text": [
      "Enter the data: 1 2 3 4\n",
      "Sorted list is:  [1, 2, 3, 4]\n",
      "Enter data to search: 3\n",
      "Data found at position  3\n"
     ]
    }
   ],
   "source": [
    "#Binary search using while loop\n",
    "\n",
    "#Binary search using recursion\n",
    "\n",
    "\n",
    "def bsearch(n,low,high):\n",
    "    while(low<=high):\n",
    "        mid=(low+high)//2\n",
    "        if n==l[mid]:\n",
    "            return mid+1\n",
    "        elif n<l[mid]:\n",
    "            high=mid-1\n",
    "        elif n>l[mid]:\n",
    "            low=mid+1\n",
    "    return 0\n",
    "\n",
    "l=list(map(int,input(\"Enter the data: \").split()))\n",
    "l.sort()\n",
    "print(\"Sorted list is: \",l)\n",
    "n=int(input(\"Enter data to search: \"))\n",
    "\n",
    "temp=bsearch(n,0,len(l)-1)\n",
    "if temp:\n",
    "    print(\"Data found at position \",(temp))\n",
    "else:\n",
    "    print(\"Data not found!\")"
   ]
  },
  {
   "cell_type": "code",
   "execution_count": null,
   "id": "8f0f6662",
   "metadata": {},
   "outputs": [],
   "source": []
  }
 ],
 "metadata": {
  "kernelspec": {
   "display_name": "Python 3 (ipykernel)",
   "language": "python",
   "name": "python3"
  },
  "language_info": {
   "codemirror_mode": {
    "name": "ipython",
    "version": 3
   },
   "file_extension": ".py",
   "mimetype": "text/x-python",
   "name": "python",
   "nbconvert_exporter": "python",
   "pygments_lexer": "ipython3",
   "version": "3.9.13"
  }
 },
 "nbformat": 4,
 "nbformat_minor": 5
}
