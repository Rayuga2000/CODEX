{
  "nbformat": 4,
  "nbformat_minor": 0,
  "metadata": {
    "colab": {
      "provenance": []
    },
    "kernelspec": {
      "name": "python3",
      "display_name": "Python 3"
    },
    "language_info": {
      "name": "python"
    }
  },
  "cells": [
    {
      "cell_type": "code",
      "execution_count": null,
      "metadata": {
        "id": "v11OMJ2xQVWL"
      },
      "outputs": [],
      "source": [
        "\"\"\"Print the average of the marks array for the student name provided,\n",
        "   showing 2 places after the decimal.\"\"\"\n",
        "\n",
        "n=int(input(\"Enter no. of students: \"))\n",
        "student_marks={}\n",
        "\n",
        "for i in range(n):\n",
        "    #first element of input string i stored in 'name' as a string the rest of the elements are stored together in 'marks' as a list\n",
        "    name,*marks=input('Enter Name & Marks of student '+str(i+1)+\": \").split()\n",
        "    #converting each element of 'marks' in float with the help of map() then storing them in list format in 'marks'\n",
        "    marks=list(map(float,marks))\n",
        "    student_marks[name]=marks\n",
        "\n",
        "query=input(\"Enter Name of the student to find average marks: \")\n",
        "temp=student_marks[query]\n",
        "avg=sum(temp)/len(temp)\n",
        "\n",
        "print(\"The avg. marks of \"+query+\" is %.2f\"%avg)\n"
      ]
    },
    {
      "cell_type": "code",
      "source": [
        "#Find total no. of Duals in K-Map\n",
        "l2=[]\n",
        "r,c=map(int,input(\"Enter no. of rows & cols: \").split())\n",
        "\n",
        "print(\"Enter the data(0/1):\")\n",
        "for i in range(r):\n",
        "    l1=[]\n",
        "    for j in range(c):\n",
        "        while True:\n",
        "            n=int(input())\n",
        "            if n in range(2):\n",
        "                l1.append(n)\n",
        "                break\n",
        "            else:\n",
        "                print(\"Please enter a valid no.(0/1)\")\n",
        "    l2.append(l1)\n",
        "\n",
        "print(\"\\n---Matrix---\")\n",
        "for i in range(r):\n",
        "    for j in range(c):\n",
        "        print(l2[i][j],end=\" \")\n",
        "    print()\n",
        "\n",
        "temp=[]\n",
        "Hcount=0\n",
        "Vcount=0\n",
        "HCcount=0\n",
        "VCcount=0\n",
        "\n",
        "if c>1:\n",
        "    for i in range(r):\n",
        "        for j in range(c-1):\n",
        "            index=[str(i)+str(j),str(i)+str(j+1)]\n",
        "            if index[0] not in temp and index[1] not in temp:\n",
        "                if l2[i][j]==1 and l2[i][j+1]==1:\n",
        "                    Hcount+=1\n",
        "                    temp.append(index[0])\n",
        "                    temp.append(index[1])\n",
        "\n",
        "if c>2:\n",
        "    for i in range(r):\n",
        "        index=[str(i)+str(0),str(i)+str(c-1)]\n",
        "        if index[0] not in temp and index[1] not in temp:\n",
        "            if l2[i][0]==1 and l2[i][c-1]==1:\n",
        "                HCcount+=1\n",
        "                temp.append(index[0])\n",
        "                temp.append(index[1])\n",
        "\n",
        "if r>1:\n",
        "    for i in range(r-1):\n",
        "        for j in range(c):\n",
        "            index=[str(i)+str(j),str(i+1)+str(j)]\n",
        "            if index[0] not in temp and index[1] not in temp:\n",
        "                if l2[i][j]==1 and l2[i+1][j]==1:\n",
        "                    Vcount+=1\n",
        "                    temp.append(index[0])\n",
        "                    temp.append(index[1])\n",
        "\n",
        "if r>2:\n",
        "    for i in range(c):\n",
        "        index=[str(0)+str(i),str(r-1)+str(i)]\n",
        "        if index[0] not in temp and index[1] not in temp:\n",
        "            if l2[0][i]==1 and l2[r-1][i]==1:\n",
        "                VCcount+=1\n",
        "                temp.append(index[0])\n",
        "                temp.append(index[1])\n",
        "\n",
        "#print(\"\\nNo. of Horizontal Duals: \",Hcount)\n",
        "#print(\"No. of Horizontal Corner Duals: \",HCcount)\n",
        "#print(\"No. of Vertical Duals: \",Vcount)\n",
        "#print(\"No. of Vertical Corner Duals: \",VCcount)\n",
        "print(\"\\nTotal no. of Duals: \",Hcount+Vcount+HCcount+VCcount)"
      ],
      "metadata": {
        "id": "dycXPI77LP_V",
        "colab": {
          "base_uri": "https://localhost:8080/"
        },
        "outputId": "6ec9c67a-f830-42ef-f174-bf3148270527"
      },
      "execution_count": 3,
      "outputs": [
        {
          "output_type": "stream",
          "name": "stdout",
          "text": [
            "Enter no. of rows & cols: 2 4\n",
            "Enter the data(0/1):\n",
            "1\n",
            "1\n",
            "0\n",
            "0\n",
            "1\n",
            "0\n",
            "0\n",
            "1\n",
            "\n",
            "---Matrix---\n",
            "1 1 0 0 \n",
            "1 0 0 1 \n",
            "Total no. of Duals:  2\n"
          ]
        }
      ]
    }
  ]
}