{
  "nbformat": 4,
  "nbformat_minor": 0,
  "metadata": {
    "colab": {
      "provenance": []
    },
    "kernelspec": {
      "name": "python3",
      "display_name": "Python 3"
    },
    "language_info": {
      "name": "python"
    }
  },
  "cells": [
    {
      "cell_type": "code",
      "execution_count": null,
      "metadata": {
        "id": "v11OMJ2xQVWL"
      },
      "outputs": [],
      "source": [
        "\"\"\"Print the average of the marks array for the student name provided,\n",
        "   showing 2 places after the decimal.\"\"\"\n",
        "\n",
        "n=int(input(\"Enter no. of students: \"))\n",
        "student_marks={}\n",
        "\n",
        "for i in range(n):\n",
        "    #first element of input string i stored in 'name' as a string the rest of the elements are stored together in 'marks' as a list\n",
        "    name,*marks=input('Enter Name & Marks of student '+str(i+1)+\": \").split()\n",
        "    #converting each element of 'marks' in float with the help of map() then storing them in list format in 'marks'\n",
        "    marks=list(map(float,marks))\n",
        "    student_marks[name]=marks\n",
        "\n",
        "query=input(\"Enter Name of the student to find average marks: \")\n",
        "temp=student_marks[query]\n",
        "avg=sum(temp)/len(temp)\n",
        "\n",
        "print(\"The avg. marks of \"+query+\" is %.2f\"%avg)\n"
      ]
    }
  ]
}