{
  "nbformat": 4,
  "nbformat_minor": 0,
  "metadata": {
    "colab": {
      "provenance": [],
      "toc_visible": true
    },
    "kernelspec": {
      "name": "python3",
      "display_name": "Python 3"
    },
    "language_info": {
      "name": "python"
    }
  },
  "cells": [
    {
      "cell_type": "code",
      "execution_count": null,
      "metadata": {
        "id": "cCsydmGB7wS0"
      },
      "outputs": [],
      "source": [
        "#pattern in 1 line\n",
        "for i in range(1,10):\n",
        "  print(\" \"*abs(5-i)+\"*\"*(5-abs(5-i)))"
      ]
    },
    {
      "cell_type": "code",
      "source": [
        "#Get avg of the numbers from 1 to range\n",
        "Sum=0\n",
        "temp=0\n",
        "\n",
        "for i in range(1,int(input())+1):\n",
        "   Sum+=i\n",
        "   temp=i\n",
        "print(Sum/temp)"
      ],
      "metadata": {
        "id": "DEcSFEwE9UN4"
      },
      "execution_count": null,
      "outputs": []
    },
    {
      "cell_type": "code",
      "source": [
        "#Print Multiplication table of the given number\n",
        "Mul=1\n",
        "n=int(input())\n",
        "for i in range(1,n+1):\n",
        "   print(str(n)+\" x \"+str(i)+\" = \"+str(n*i))"
      ],
      "metadata": {
        "id": "EE7UiOgt9V1O"
      },
      "execution_count": null,
      "outputs": []
    },
    {
      "cell_type": "code",
      "source": [
        "#Linear Search using list\n",
        "l=list(map(int,input(\"Enter the data: \").split()))\n",
        "temp=int(input(\"Enter data to search: \"))\n",
        "c=0\n",
        "i=0\n",
        "\n",
        "while(i<len(l)):\n",
        "  if l[i]==temp:\n",
        "    print(\"Data found at position \"+str(i+1))\n",
        "    c+=1\n",
        "  i+=1\n",
        "\n",
        "if c==0:\n",
        "  print(\"Data not found\")"
      ],
      "metadata": {
        "id": "w_4gv7CMN9kC"
      },
      "execution_count": null,
      "outputs": []
    }
  ]
}