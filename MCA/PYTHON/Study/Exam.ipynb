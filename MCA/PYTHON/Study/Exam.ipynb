{
  "nbformat": 4,
  "nbformat_minor": 0,
  "metadata": {
    "colab": {
      "provenance": []
    },
    "kernelspec": {
      "name": "python3",
      "display_name": "Python 3"
    },
    "language_info": {
      "name": "python"
    }
  },
  "cells": [
    {
      "cell_type": "code",
      "execution_count": null,
      "metadata": {
        "colab": {
          "base_uri": "https://localhost:8080/"
        },
        "id": "edFOGAge4edJ",
        "outputId": "c390ec07-022e-459c-ac0f-1354efaee97a"
      },
      "outputs": [
        {
          "output_type": "stream",
          "name": "stdout",
          "text": [
            "6\n",
            "5 7\n",
            "6 3\n",
            "<class 'list'>\n"
          ]
        }
      ],
      "source": [
        "x,*z,y=5,6,3,7\n",
        "# using '*' before a variable name let's us use the variable as a list iff the variable is in this kind of format: x,*y,z,... or *x,y,... or x,y,*z\n",
        "*s,f=5,4,6\n",
        "print(f)\n",
        "print(x,y)\n",
        "print(*z)\n",
        "print(type(z))"
      ]
    },
    {
      "cell_type": "code",
      "source": [
        "print([[None]*2]*3)"
      ],
      "metadata": {
        "colab": {
          "base_uri": "https://localhost:8080/"
        },
        "id": "DlEqw8gy9nrE",
        "outputId": "91397deb-8296-4b55-fc53-9f5c1fc47216"
      },
      "execution_count": null,
      "outputs": [
        {
          "output_type": "stream",
          "name": "stdout",
          "text": [
            "[[None, None], [None, None], [None, None]]\n"
          ]
        }
      ]
    },
    {
      "cell_type": "code",
      "source": [
        "class main:\n",
        "  def __init__(self,l):\n",
        "    l.reverse()\n",
        "    print(\"Reversed List: \",l)\n",
        "\n",
        "l=list(map(int,input(\"Enter the list: \").split()))\n",
        "x=main(l)\n",
        "del x"
      ],
      "metadata": {
        "id": "6Gicv3Kp77ij",
        "colab": {
          "base_uri": "https://localhost:8080/"
        },
        "outputId": "4208979a-1c77-4e4b-ce06-c3aaa1f6179c"
      },
      "execution_count": null,
      "outputs": [
        {
          "output_type": "stream",
          "name": "stdout",
          "text": [
            "Enter the list: 6 4 5 3\n",
            "Reversed List:  [3, 5, 4, 6]\n"
          ]
        }
      ]
    },
    {
      "cell_type": "code",
      "source": [
        "class operation:\n",
        "  def __init__(self,a,b):\n",
        "    pass\n",
        "    \n",
        "  def add(self):\n",
        "    print('Sum: ',a+b)\n",
        "  def sub(self):\n",
        "    print('Sub: ',a-b)\n",
        "  def mul(self):\n",
        "    print('Mul: ',a*b)\n",
        "  def div(self):\n",
        "    print('Div: ',a/b)\n",
        "  def mod(self):\n",
        "    print('Mod: ',a%b)\n",
        "\n",
        "a,b=map(int,input(\"Enter the Numbers: \").split())\n",
        "x=operation(a,b)\n",
        "\n",
        "x.add()\n",
        "x.sub()\n",
        "x.mul()\n",
        "x.div()\n",
        "x.mod()"
      ],
      "metadata": {
        "colab": {
          "base_uri": "https://localhost:8080/"
        },
        "id": "yXcd2iJPYLLM",
        "outputId": "80cd4413-1083-4a47-97d2-d94dce8ee4f1"
      },
      "execution_count": null,
      "outputs": [
        {
          "output_type": "stream",
          "name": "stdout",
          "text": [
            "Enter the Numbers: 2 3\n",
            "Sum:  5\n",
            "Sub:  -1\n",
            "Mul:  6\n",
            "Div:  0.6666666666666666\n",
            "Mod:  2\n"
          ]
        }
      ]
    },
    {
      "cell_type": "code",
      "source": [
        "#Search\n",
        "def lSearch(n):\n",
        "  global l\n",
        "  for i in range(len(l)):\n",
        "    if n==l[i]:\n",
        "      return i+1\n",
        "  return -1\n",
        "\n",
        "def bSearch(low,high,n):\n",
        "  global l\n",
        "\n",
        "  while low<=high:\n",
        "    mid=(low+high)//2\n",
        "    if l[mid]==n:\n",
        "      return mid+1\n",
        "    elif n>l[mid]:\n",
        "      low=mid+1\n",
        "    elif n<l[mid]:\n",
        "      high=mid-1\n",
        "  return -1\n",
        "\n",
        "def BSearch(low,high,n):\n",
        "  global l\n",
        "  mid =(low+high)//2\n",
        "\n",
        "  if low<=high:\n",
        "    if l[mid]==n:\n",
        "      return mid+1\n",
        "    elif n<l[mid]:\n",
        "      return BSearch(low,mid-1,n)\n",
        "    elif n>l[mid]:\n",
        "      return BSearch(mid+1,high,n)\n",
        "  \n",
        "  return -1\n",
        "#sort\n",
        "def BSort():\n",
        "  global l\n",
        "  n=len(l)\n",
        "\n",
        "  for i in range(n-1):\n",
        "    for j in range(n-i-1):\n",
        "      if l[j]>l[j+1]:\n",
        "        l[j],l[j+1]=l[j+1],l[j]\n",
        "  print(l)\n",
        "\n",
        "def SelSort():\n",
        "  global l\n",
        "  n=len(l)\n",
        "\n",
        "  for i in range(n):\n",
        "    min=i\n",
        "    for j in range(i+1,n):\n",
        "      if l[j]<l[min]:\n",
        "        min=j\n",
        "    l[min],l[i]=l[i],l[min]\n",
        "  print(l)\n",
        "\n",
        "l=[6,80,1,2,9,8,0,3]"
      ],
      "metadata": {
        "id": "SmxaHDFkWcgn"
      },
      "execution_count": null,
      "outputs": []
    },
    {
      "cell_type": "code",
      "source": [
        "BSort()"
      ],
      "metadata": {
        "colab": {
          "base_uri": "https://localhost:8080/"
        },
        "id": "VekfUWMlp5X6",
        "outputId": "7df4cadb-7d8f-4819-9504-9591e72359a9"
      },
      "execution_count": null,
      "outputs": [
        {
          "output_type": "stream",
          "name": "stdout",
          "text": [
            "[0, 1, 2, 3, 6, 8, 8, 9]\n"
          ]
        }
      ]
    },
    {
      "cell_type": "code",
      "source": [
        "SelSort()"
      ],
      "metadata": {
        "colab": {
          "base_uri": "https://localhost:8080/"
        },
        "id": "CYorlgUNS9Tg",
        "outputId": "b91a0064-92db-40d0-d7ee-f77835b7eac3"
      },
      "execution_count": null,
      "outputs": [
        {
          "output_type": "stream",
          "name": "stdout",
          "text": [
            "[0, 1, 2, 3, 6, 8, 8, 9]\n"
          ]
        }
      ]
    },
    {
      "cell_type": "code",
      "source": [
        "x=bSearch(0,len(l)-1,9)"
      ],
      "metadata": {
        "id": "uVqRGlP9eJAm"
      },
      "execution_count": null,
      "outputs": []
    },
    {
      "cell_type": "code",
      "source": [
        "x=lSearch(9)"
      ],
      "metadata": {
        "id": "jGOzoyxtgd-6"
      },
      "execution_count": null,
      "outputs": []
    },
    {
      "cell_type": "code",
      "source": [
        "x=BSearch(0,len(l)-1,3)"
      ],
      "metadata": {
        "id": "XjKnoK6Tg5ZI"
      },
      "execution_count": null,
      "outputs": []
    },
    {
      "cell_type": "code",
      "source": [
        "if x>=0:\n",
        "  print(\"Data found at position: \",x)\n",
        "else:\n",
        "  print(\"Data not found!\")"
      ],
      "metadata": {
        "colab": {
          "base_uri": "https://localhost:8080/"
        },
        "id": "qGIkFD00qAxu",
        "outputId": "0821c172-338f-45ec-ee7e-091c40593a64"
      },
      "execution_count": null,
      "outputs": [
        {
          "output_type": "stream",
          "name": "stdout",
          "text": [
            "Data found at position:  4\n"
          ]
        }
      ]
    },
    {
      "cell_type": "code",
      "source": [
        "#Pascal Triangle\n",
        "import math\n",
        "\n",
        "def nCr(n,r):\n",
        "    return (math.factorial(n)//(math.factorial(r)*math.factorial(n-r)))\n",
        "\n",
        "n=int(input(\"Enter range: \"))\n",
        "for i in range(n):\n",
        "    print(\" \"*(n-i),end=\"\")\n",
        "    for j in range(i+1):\n",
        "        print(nCr(i,j),end=\" \")\n",
        "    print()"
      ],
      "metadata": {
        "colab": {
          "base_uri": "https://localhost:8080/"
        },
        "id": "vTd1lH1BP3Ml",
        "outputId": "ef67f89a-dba1-4913-c3c7-4408ae4129c4"
      },
      "execution_count": null,
      "outputs": [
        {
          "output_type": "stream",
          "name": "stdout",
          "text": [
            "Enter range: 6\n",
            "      1 \n",
            "     1 1 \n",
            "    1 2 1 \n",
            "   1 3 3 1 \n",
            "  1 4 6 4 1 \n",
            " 1 5 10 10 5 1 \n"
          ]
        }
      ]
    },
    {
      "cell_type": "code",
      "source": [
        "#GCD recursion\n",
        "def GCD(x,y):\n",
        "  if x%y==0:\n",
        "    return y\n",
        "  else:\n",
        "    return GCD(y,x%y)\n",
        "\n",
        "x,y=map(int,input(\"Enter the Numbers: \").split())\n",
        "print(\"GCD: \",GCD(x,y))"
      ],
      "metadata": {
        "colab": {
          "base_uri": "https://localhost:8080/"
        },
        "id": "lhQBvYn6U9tm",
        "outputId": "536ff933-ef19-47de-f57c-1c3bb09cd7a2"
      },
      "execution_count": null,
      "outputs": [
        {
          "output_type": "stream",
          "name": "stdout",
          "text": [
            "Enter the Numbers: 121 66\n",
            "GCD:  11\n"
          ]
        }
      ]
    },
    {
      "cell_type": "code",
      "source": [
        "n=int(input())\n",
        "\n",
        "for i in range(n):\n",
        "  print(' '*(n-i),end=\"\")\n",
        "  for j in range(1,i+2):\n",
        "    print(j,end=\"\")\n",
        "  if i!=0:\n",
        "    for k in range(i,0,-1):\n",
        "      print(k,end=\"\")\n",
        "  print()"
      ],
      "metadata": {
        "colab": {
          "base_uri": "https://localhost:8080/"
        },
        "id": "EJ_PGqLt7h9h",
        "outputId": "36a766b3-6d22-4b1d-86c2-c386dd822c12"
      },
      "execution_count": null,
      "outputs": [
        {
          "output_type": "stream",
          "name": "stdout",
          "text": [
            "5\n",
            "     1\n",
            "    121\n",
            "   12321\n",
            "  1234321\n",
            " 123454321\n"
          ]
        }
      ]
    }
  ]
}