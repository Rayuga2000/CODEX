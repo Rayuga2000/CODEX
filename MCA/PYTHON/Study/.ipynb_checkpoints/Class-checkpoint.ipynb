{
 "cells": [
  {
   "cell_type": "code",
   "execution_count": null,
   "metadata": {
    "id": "cCsydmGB7wS0"
   },
   "outputs": [],
   "source": [
    "#pattern in 1 line\n",
    "for i in range(1,10):\n",
    "  print(\" \"*abs(5-i)+\"*\"*(5-abs(5-i)))"
   ]
  },
  {
   "cell_type": "code",
   "execution_count": null,
   "metadata": {
    "id": "DEcSFEwE9UN4"
   },
   "outputs": [],
   "source": [
    "#Get avg of the numbers from 1 to range\n",
    "Sum=0\n",
    "temp=0\n",
    "\n",
    "for i in range(1,int(input())+1):\n",
    "   Sum+=i\n",
    "   temp=i\n",
    "print(Sum/temp)"
   ]
  },
  {
   "cell_type": "code",
   "execution_count": null,
   "metadata": {
    "id": "EE7UiOgt9V1O"
   },
   "outputs": [],
   "source": [
    "#Print Multiplication table of the given number\n",
    "Mul=1\n",
    "n=int(input())\n",
    "for i in range(1,n+1):\n",
    "   print(str(n)+\" x \"+str(i)+\" = \"+str(n*i))"
   ]
  },
  {
   "cell_type": "code",
   "execution_count": null,
   "metadata": {
    "id": "w_4gv7CMN9kC"
   },
   "outputs": [],
   "source": [
    "#Linear Search using list\n",
    "l=list(map(int,input(\"Enter the data: \").split()))\n",
    "temp=int(input(\"Enter data to search: \"))\n",
    "c=0\n",
    "i=0\n",
    "\n",
    "while(i<len(l)):\n",
    "  if l[i]==temp:\n",
    "    print(\"Data found at position \"+str(i+1))\n",
    "    c+=1\n",
    "  i+=1\n",
    "\n",
    "if c==0:\n",
    "  print(\"Data not found\")"
   ]
  },
  {
   "cell_type": "code",
   "execution_count": 46,
   "metadata": {},
   "outputs": [
    {
     "name": "stdout",
     "output_type": "stream",
     "text": [
      "Enter the Number: 32\n",
      "Thirty Two\n"
     ]
    }
   ],
   "source": [
    "dict={0:\"Zero\",1:\"One\",2:\"Two\",3:\"Three\",4:\"Four\",5:\"Five\",6:\"Six\",7:\"Seven\",8:\"Eight\",9:\"Nine\",10:\"Ten\",11:\"Eleven\",\n",
    "     12:\"Twelve\",13:\"Thirteen\",14:\"Fourteen\",15:\"Fifteen\",16:\"Sixteen\",17:\"Seventeen\",18:\"Eightteen\",19:\"Nineteen\",\n",
    "     20:\"Twenty\",30:\"Thirty\",40:\"Fourty\",50:\"Fifty\",60:\"Sixty\",70:\"Seventy\",80:\"Eighty\",90:\"Ninety\"}\n",
    "\n",
    "n=int(input(\"Enter the Number: \"))\n",
    "\n",
    "if n>19:\n",
    "    print(dict[n-n%10]+\" \"+dict[n%10])\n",
    "else:\n",
    "    print(dict[n])"
   ]
  },
  {
   "cell_type": "code",
   "execution_count": 45,
   "metadata": {},
   "outputs": [
    {
     "name": "stdout",
     "output_type": "stream",
     "text": [
      "Enter the Number: 5698\n",
      "Reverse of the No.: 8965"
     ]
    }
   ],
   "source": [
    "n=int(input(\"Enter the Number: \"))\n",
    "temp=n\n",
    "\n",
    "print(\"Reverse of the No.: \",end=\"\")\n",
    "while(temp>0):\n",
    "    print(temp%10,end=\"\")\n",
    "    temp-=temp%10\n",
    "    temp//=10\n"
   ]
  },
  {
   "cell_type": "code",
   "execution_count": 55,
   "metadata": {},
   "outputs": [
    {
     "name": "stdout",
     "output_type": "stream",
     "text": [
      "1\n",
      "2\n",
      "apr jun\n"
     ]
    }
   ],
   "source": [
    "def month(index): #it's a generator function that returns an iterator obj\n",
    "    month=['jan','feb','mar','apr','may','jun','jul','aug','sep','oct','nov','dec']\n",
    "    print('1')\n",
    "    yield month[index]\n",
    "    print('2')\n",
    "    yield month[index+2]\n",
    "\n",
    "#month() returns all the yield vales as obj at once in a var\n",
    "#if month() called alone it will just return first yield\n",
    "next_month=month(3) #the var stores an object of iterator\n",
    "#iterators are not accesible through index we need to use next()\n",
    "print(next(next_month),next(next_month))"
   ]
  },
  {
   "cell_type": "code",
   "execution_count": null,
   "metadata": {},
   "outputs": [],
   "source": []
  }
 ],
 "metadata": {
  "colab": {
   "provenance": [],
   "toc_visible": true
  },
  "kernelspec": {
   "display_name": "Python 3 (ipykernel)",
   "language": "python",
   "name": "python3"
  },
  "language_info": {
   "codemirror_mode": {
    "name": "ipython",
    "version": 3
   },
   "file_extension": ".py",
   "mimetype": "text/x-python",
   "name": "python",
   "nbconvert_exporter": "python",
   "pygments_lexer": "ipython3",
   "version": "3.9.13"
  }
 },
 "nbformat": 4,
 "nbformat_minor": 1
}
