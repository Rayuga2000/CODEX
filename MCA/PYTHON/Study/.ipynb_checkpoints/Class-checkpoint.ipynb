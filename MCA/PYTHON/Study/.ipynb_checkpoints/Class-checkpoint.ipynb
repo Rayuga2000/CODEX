{
 "cells": [
  {
   "cell_type": "code",
   "execution_count": null,
   "metadata": {
    "id": "a8Q59bhWQva4"
   },
   "outputs": [],
   "source": [
    "#Find total no. of Duals in K-Map\n",
    "l2=[]\n",
    "r,c=map(int,input(\"Enter no. of rows & cols: \").split())\n",
    "\n",
    "print(\"Enter the data(0/1):\")\n",
    "for i in range(r):\n",
    "    l1=[]\n",
    "    for j in range(c):\n",
    "        while True:\n",
    "            n=int(input())\n",
    "            if n in range(2):\n",
    "                l1.append(n)\n",
    "                break\n",
    "            else:\n",
    "                print(\"Please enter a valid no.(0/1)\")\n",
    "    l2.append(l1)\n",
    "\n",
    "print(\"\\n---Matrix---\")\n",
    "for i in range(r):\n",
    "    for j in range(c):\n",
    "        print(l2[i][j],end=\" \")\n",
    "    print()\n",
    "\n",
    "temp=[]\n",
    "Hcount=0\n",
    "Vcount=0\n",
    "HCcount=0\n",
    "VCcount=0\n",
    "\n",
    "if c>1:\n",
    "    for i in range(r):\n",
    "        for j in range(c-1):\n",
    "            index=[str(i)+str(j),str(i)+str(j+1)]\n",
    "            if index[0] not in temp and index[1] not in temp:\n",
    "                if l2[i][j]==1 and l2[i][j+1]==1:\n",
    "                    Hcount+=1\n",
    "                    temp.append(index[0])\n",
    "                    temp.append(index[1])\n",
    "\n",
    "if c>2:\n",
    "    for i in range(r):\n",
    "        index=[str(i)+str(0),str(i)+str(c-1)]\n",
    "        if index[0] not in temp and index[1] not in temp:\n",
    "            if l2[i][0]==1 and l2[i][c-1]==1:\n",
    "                HCcount+=1\n",
    "                temp.append(index[0])\n",
    "                temp.append(index[1])\n",
    "\n",
    "if r>1:\n",
    "    for i in range(r-1):\n",
    "        for j in range(c):\n",
    "            index=[str(i)+str(j),str(i+1)+str(j)]\n",
    "            if index[0] not in temp and index[1] not in temp:\n",
    "                if l2[i][j]==1 and l2[i+1][j]==1:\n",
    "                    Vcount+=1\n",
    "                    temp.append(index[0])\n",
    "                    temp.append(index[1])\n",
    "\n",
    "if r>2:\n",
    "    for i in range(c):\n",
    "        index=[str(0)+str(i),str(r-1)+str(i)]\n",
    "        if index[0] not in temp and index[1] not in temp:\n",
    "            if l2[0][i]==1 and l2[r-1][i]==1:\n",
    "                VCcount+=1\n",
    "                temp.append(index[0])\n",
    "                temp.append(index[1])\n",
    "\n",
    "#print(\"\\nNo. of Horizontal Duals: \",Hcount)\n",
    "#print(\"No. of Horizontal Corner Duals: \",HCcount)\n",
    "#print(\"No. of Vertical Duals: \",Vcount)\n",
    "#print(\"No. of Vertical Corner Duals: \",VCcount)\n",
    "print(\"\\nTotal no. of Duals: \",Hcount+Vcount+HCcount+VCcount)"
   ]
  },
  {
   "cell_type": "code",
   "execution_count": null,
   "metadata": {
    "id": "LQGoP6q59OPM"
   },
   "outputs": [],
   "source": [
    "import re\n",
    "T=\"text\"\n",
    "result =[i.start() for i in re.finditer('t',T)]\n",
    "print(result)"
   ]
  },
  {
   "cell_type": "code",
   "execution_count": null,
   "metadata": {
    "id": "db_CjbY1-8hP"
   },
   "outputs": [],
   "source": [
    "import re\n",
    "T=\"text\"\n",
    "result= [re.finditer('t',T)]\n",
    "\n",
    "print(result)"
   ]
  },
  {
   "cell_type": "code",
   "execution_count": null,
   "metadata": {
    "id": "UQ4JRCCOAbPV"
   },
   "outputs": [],
   "source": [
    "x,y,z=input().split(',')\n",
    "print(x,y,z)"
   ]
  },
  {
   "cell_type": "code",
   "execution_count": null,
   "metadata": {
    "id": "ptrGGu1pcu0w"
   },
   "outputs": [],
   "source": [
    "sum=0\n",
    "for i in range(1,int(input(\"Enter the range: \"))+1):\n",
    "  sum+=(i/(i+1))# '/' is float division '//' is floor division\n",
    "print(sum)"
   ]
  },
  {
   "cell_type": "code",
   "execution_count": null,
   "metadata": {
    "id": "ScKC1-2f_4sc"
   },
   "outputs": [],
   "source": [
    "sum=0\n",
    "for i in range(1,int(input(\"Enter the range: \"))+1):\n",
    "  sum+=(i**i)/i # '/' is float division '//' is floor division\n",
    "print(sum)"
   ]
  },
  {
   "cell_type": "code",
   "execution_count": null,
   "metadata": {
    "id": "RQ-LfDIKagQi"
   },
   "outputs": [],
   "source": [
    "h=float(input())\n",
    "b=float(input())\n",
    "print(0.5*h*b)"
   ]
  },
  {
   "cell_type": "code",
   "execution_count": null,
   "metadata": {
    "colab": {
     "base_uri": "https://localhost:8080/"
    },
    "executionInfo": {
     "elapsed": 397,
     "status": "ok",
     "timestamp": 1670995889530,
     "user": {
      "displayName": "Tushar Sarkar",
      "userId": "05406157128905464349"
     },
     "user_tz": -330
    },
    "id": "si5dDZWwDz3N",
    "outputId": "5b4266f9-2ceb-49da-c0e5-7c11e12f08dd"
   },
   "outputs": [],
   "source": [
    "for i in range(1,5):\n",
    "  for j in range(1,i+1):\n",
    "    print(j,end='')\n",
    "  print()"
   ]
  },
  {
   "cell_type": "code",
   "execution_count": null,
   "metadata": {
    "colab": {
     "base_uri": "https://localhost:8080/"
    },
    "executionInfo": {
     "elapsed": 3,
     "status": "ok",
     "timestamp": 1670995474774,
     "user": {
      "displayName": "Tushar Sarkar",
      "userId": "05406157128905464349"
     },
     "user_tz": -330
    },
    "id": "_Hc0QtZYEvUX",
    "outputId": "453b47f4-267e-46cd-e77f-161a49451254"
   },
   "outputs": [],
   "source": [
    "c=0\n",
    "for i in range(5):\n",
    "  for j in range(i+1):\n",
    "    print(c,end=' ')\n",
    "    c+=1\n",
    "  print()"
   ]
  },
  {
   "cell_type": "code",
   "execution_count": null,
   "metadata": {
    "colab": {
     "base_uri": "https://localhost:8080/"
    },
    "executionInfo": {
     "elapsed": 6551,
     "status": "ok",
     "timestamp": 1670995796037,
     "user": {
      "displayName": "Tushar Sarkar",
      "userId": "05406157128905464349"
     },
     "user_tz": -330
    },
    "id": "Cah8lS-PF7kG",
    "outputId": "6e506c74-3b21-4038-9d9a-08ba627bb78e"
   },
   "outputs": [],
   "source": [
    "x=float(input())\n",
    "y=float(input())\n",
    "\n",
    "equal=lambda x,y:x==y\n",
    "\n",
    "if(equal(x,y)):\n",
    "  print(\"Numbers are equal\")\n",
    "else:\n",
    "  print(\"Numbers are not equal\")"
   ]
  },
  {
   "cell_type": "code",
   "execution_count": null,
   "metadata": {
    "colab": {
     "base_uri": "https://localhost:8080/"
    },
    "executionInfo": {
     "elapsed": 6195,
     "status": "ok",
     "timestamp": 1670995985663,
     "user": {
      "displayName": "Tushar Sarkar",
      "userId": "05406157128905464349"
     },
     "user_tz": -330
    },
    "id": "jiizxARQHjf5",
    "outputId": "3ef7eea2-426e-45d7-938c-a2d3fd121f0f"
   },
   "outputs": [],
   "source": [
    "def equal(x,y):\n",
    "  if x==y:\n",
    "    print(\"Numbers are equal\")\n",
    "  else:\n",
    "    print(\"Numbers are not equal\")\n",
    "    \n",
    "x=float(input())\n",
    "y=float(input())\n",
    "\n",
    "equal(x,y)"
   ]
  },
  {
   "cell_type": "code",
   "execution_count": null,
   "metadata": {
    "colab": {
     "base_uri": "https://localhost:8080/"
    },
    "executionInfo": {
     "elapsed": 3137,
     "status": "ok",
     "timestamp": 1670996269012,
     "user": {
      "displayName": "Tushar Sarkar",
      "userId": "05406157128905464349"
     },
     "user_tz": -330
    },
    "id": "pfZCz9SSH4Nb",
    "outputId": "7c5af641-7c55-4686-a786-e85a350160de"
   },
   "outputs": [],
   "source": [
    "def swap(x,y):\n",
    "  x=x+y\n",
    "  y=x-y\n",
    "  x=x-y\n",
    "  print(x,y)\n",
    "\n",
    "x,y=map(int,input().split())\n",
    "\n",
    "swap(x,y)"
   ]
  },
  {
   "cell_type": "code",
   "execution_count": null,
   "metadata": {
    "colab": {
     "base_uri": "https://localhost:8080/"
    },
    "executionInfo": {
     "elapsed": 2577,
     "status": "ok",
     "timestamp": 1670996393643,
     "user": {
      "displayName": "Tushar Sarkar",
      "userId": "05406157128905464349"
     },
     "user_tz": -330
    },
    "id": "TkJz18tEI_rY",
    "outputId": "5f9202c4-d5a2-4966-fbde-206e011db1a5"
   },
   "outputs": [],
   "source": [
    "def check(x):\n",
    "  if x%2==0:\n",
    "    print(\"No. is Even\")\n",
    "  else:\n",
    "    print(\"No. is Odd\")\n",
    "\n",
    "check(int(input()))"
   ]
  },
  {
   "cell_type": "code",
   "execution_count": null,
   "metadata": {
    "colab": {
     "base_uri": "https://localhost:8080/"
    },
    "executionInfo": {
     "elapsed": 388,
     "status": "ok",
     "timestamp": 1673882181034,
     "user": {
      "displayName": "Tushar Sarkar",
      "userId": "05406157128905464349"
     },
     "user_tz": -330
    },
    "id": "dRLWMYQtH6EZ",
    "outputId": "917e1729-bfb5-4eff-e97f-a9541280a91f"
   },
   "outputs": [],
   "source": [
    "print(True*False) # True & False are getting converted into 1 & 0 respectively"
   ]
  },
  {
   "cell_type": "code",
   "execution_count": null,
   "metadata": {
    "colab": {
     "base_uri": "https://localhost:8080/"
    },
    "executionInfo": {
     "elapsed": 6251,
     "status": "ok",
     "timestamp": 1673882490173,
     "user": {
      "displayName": "Tushar Sarkar",
      "userId": "05406157128905464349"
     },
     "user_tz": -330
    },
    "id": "Q63bPjhAKPPI",
    "outputId": "e3a1dc3e-80a8-44ca-ef51-c282ea1d6c58"
   },
   "outputs": [],
   "source": [
    "# Write a program to check if the character is a vowel or not\n",
    "\n",
    "l=['a','e','i','o','u']\n",
    "print(\"Character is a vowel\" if input(\"Enter a Character: \") in l else \"Character is not a vowel\")"
   ]
  },
  {
   "cell_type": "code",
   "execution_count": null,
   "metadata": {
    "colab": {
     "base_uri": "https://localhost:8080/"
    },
    "executionInfo": {
     "elapsed": 3092,
     "status": "ok",
     "timestamp": 1673893263904,
     "user": {
      "displayName": "Tushar Sarkar",
      "userId": "05406157128905464349"
     },
     "user_tz": -330
    },
    "id": "B9qb_rrcxm-6",
    "outputId": "a170165f-02e9-4eaa-b889-039652a74d76"
   },
   "outputs": [],
   "source": [
    "# Python program to print all non repeating character in string.\n",
    "\n",
    "str=input(\"Enter the String: \")\n",
    "\n",
    "for i in str:\n",
    "  count=0\n",
    "  for j in str:\n",
    "    if i==j:\n",
    "      count+=1\n",
    "    if count>1:\n",
    "      break\n",
    "  if count==1:\n",
    "    print(i,end=' ')"
   ]
  },
  {
   "cell_type": "code",
   "execution_count": null,
   "metadata": {
    "colab": {
     "base_uri": "https://localhost:8080/"
    },
    "executionInfo": {
     "elapsed": 12144,
     "status": "ok",
     "timestamp": 1673893742374,
     "user": {
      "displayName": "Tushar Sarkar",
      "userId": "05406157128905464349"
     },
     "user_tz": -330
    },
    "id": "sb-gsd_p1KGB",
    "outputId": "d1297d33-783e-4921-cc13-8c8e9233255c"
   },
   "outputs": [],
   "source": [
    "# Python program to delete vowels in a given string.\n",
    "\n",
    "string=input(\"Enter the string: \")\n",
    "vowel=['a','e','i','o','u','A','E','I','O','U']\n",
    "temp=\"\"\n",
    "\n",
    "for i in string:\n",
    "  if i not in vowel:\n",
    "    temp+=i\n",
    "\n",
    "str=temp\n",
    "\n",
    "print(\"New string after removing vowels: \",str)"
   ]
  },
  {
   "cell_type": "code",
   "execution_count": null,
   "metadata": {
    "colab": {
     "base_uri": "https://localhost:8080/",
     "height": 356
    },
    "executionInfo": {
     "elapsed": 441,
     "status": "error",
     "timestamp": 1673897358420,
     "user": {
      "displayName": "Tushar Sarkar",
      "userId": "05406157128905464349"
     },
     "user_tz": -330
    },
    "id": "Kz59iKHJ24z-",
    "outputId": "9e9241b4-ece2-468e-8e3f-e181da7ce668"
   },
   "outputs": [],
   "source": [
    "class A:\n",
    "  a=3\n",
    "class B:\n",
    "  b=4\n",
    "class C(A,B):\n",
    "  c1=super().a+super().b\n",
    "\n",
    "c=C()\n",
    "print(c.c1)"
   ]
  },
  {
   "cell_type": "code",
   "execution_count": null,
   "metadata": {
    "colab": {
     "base_uri": "https://localhost:8080/"
    },
    "executionInfo": {
     "elapsed": 411,
     "status": "ok",
     "timestamp": 1673898124060,
     "user": {
      "displayName": "Tushar Sarkar",
      "userId": "05406157128905464349"
     },
     "user_tz": -330
    },
    "id": "lfN9lnX9GD5a",
    "outputId": "21d6c163-4d6f-41f5-8676-be2c4a10e6e5"
   },
   "outputs": [],
   "source": [
    "def fn():\n",
    "  global var1\n",
    "  var1=10\n",
    "  var1=var1*5\n",
    "  print(var1)\n",
    "\n",
    "fn()\n",
    "print(var1)"
   ]
  },
  {
   "cell_type": "code",
   "execution_count": null,
   "metadata": {
    "colab": {
     "base_uri": "https://localhost:8080/"
    },
    "executionInfo": {
     "elapsed": 436,
     "status": "ok",
     "timestamp": 1673898346603,
     "user": {
      "displayName": "Tushar Sarkar",
      "userId": "05406157128905464349"
     },
     "user_tz": -330
    },
    "id": "GWd4TuopHZzf",
    "outputId": "ea774061-c5ec-4a12-cc84-5026fa94a177"
   },
   "outputs": [],
   "source": [
    "2**2**2**2"
   ]
  },
  {
   "cell_type": "code",
   "execution_count": null,
   "metadata": {
    "colab": {
     "base_uri": "https://localhost:8080/",
     "height": 182
    },
    "executionInfo": {
     "elapsed": 406,
     "status": "error",
     "timestamp": 1673898673446,
     "user": {
      "displayName": "Tushar Sarkar",
      "userId": "05406157128905464349"
     },
     "user_tz": -330
    },
    "id": "9uVo9bjnHeNT",
    "outputId": "f84a271d-7dcf-447d-b1fa-bcec9d7d1cdc"
   },
   "outputs": [],
   "source": [
    "x=\"55\"\n",
    "y=x + str(9)"
   ]
  },
  {
   "cell_type": "code",
   "execution_count": null,
   "metadata": {
    "colab": {
     "base_uri": "https://localhost:8080/"
    },
    "executionInfo": {
     "elapsed": 2,
     "status": "ok",
     "timestamp": 1673899446030,
     "user": {
      "displayName": "Tushar Sarkar",
      "userId": "05406157128905464349"
     },
     "user_tz": -330
    },
    "id": "yCE-jUMyKkTz",
    "outputId": "0de6a1f5-56ef-43c7-b892-96c82f8695f9"
   },
   "outputs": [],
   "source": [
    "for i in range(1,5):\n",
    "  print(' '*(5-i),end=\"\")\n",
    "  for j in range(i):\n",
    "    \n",
    "    print(i,end=\" \")\n",
    "  print()"
   ]
  },
  {
   "cell_type": "code",
   "execution_count": null,
   "metadata": {
    "colab": {
     "base_uri": "https://localhost:8080/"
    },
    "executionInfo": {
     "elapsed": 83,
     "status": "ok",
     "timestamp": 1673925946095,
     "user": {
      "displayName": "Tushar Sarkar",
      "userId": "05406157128905464349"
     },
     "user_tz": -330
    },
    "id": "_LLYu9Q6wqeD",
    "outputId": "2c4d4ef2-cba1-4f4f-f78a-530b735518c9"
   },
   "outputs": [],
   "source": [
    "try:\n",
    "    res = 50/0\n",
    "except Exception as err:\n",
    "    print(f'{err} Can not divide')"
   ]
  },
  {
   "cell_type": "code",
   "execution_count": null,
   "metadata": {
    "colab": {
     "base_uri": "https://localhost:8080/"
    },
    "executionInfo": {
     "elapsed": 48,
     "status": "ok",
     "timestamp": 1673926524976,
     "user": {
      "displayName": "Tushar Sarkar",
      "userId": "05406157128905464349"
     },
     "user_tz": -330
    },
    "id": "Anhai4XZy2No",
    "outputId": "ae0a7360-be73-457f-c447-91d2d8765e75"
   },
   "outputs": [],
   "source": [
    "digit = \"123461234522\"\n",
    "def func(digit):\n",
    "    if (digit == 0):\n",
    "        return 0\n",
    "    return int(digit % 10) + func(int(digit / 10))\n",
    "res = func(int(digit))\n",
    "print(res)"
   ]
  }
 ],
 "metadata": {
  "colab": {
   "authorship_tag": "ABX9TyMryuEB5vYUvwV9b74uu966",
   "mount_file_id": "1Nqyda-xQornyEyxKY40jprpd3vIGkMeO",
   "provenance": []
  },
  "kernelspec": {
   "display_name": "Python 3 (ipykernel)",
   "language": "python",
   "name": "python3"
  },
  "language_info": {
   "codemirror_mode": {
    "name": "ipython",
    "version": 3
   },
   "file_extension": ".py",
   "mimetype": "text/x-python",
   "name": "python",
   "nbconvert_exporter": "python",
   "pygments_lexer": "ipython3",
   "version": "3.9.13"
  }
 },
 "nbformat": 4,
 "nbformat_minor": 1
}
