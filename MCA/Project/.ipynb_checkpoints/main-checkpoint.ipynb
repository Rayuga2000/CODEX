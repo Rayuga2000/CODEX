{
 "cells": [
  {
   "cell_type": "code",
   "execution_count": null,
   "id": "3884f93e-9da0-440e-ae69-93de90254352",
   "metadata": {},
   "outputs": [],
   "source": [
    "import cv2\n",
    "import numpy as np\n",
    "import matplotlib.pyplot as plt"
   ]
  },
  {
   "cell_type": "code",
   "execution_count": null,
   "id": "2de42d5f-622e-4190-8c66-126eb6c23b2b",
   "metadata": {},
   "outputs": [],
   "source": [
    "img=cv2.imread(\"x.tif\")\n",
    "mask=cv2.imread(\"mask.jpg\")"
   ]
  },
  {
   "cell_type": "code",
   "execution_count": null,
   "id": "a7577ae6-dae9-423d-ab68-b948ea536939",
   "metadata": {},
   "outputs": [],
   "source": [
    "grayscale_image = cv2.cvtColor(img, cv2.COLOR_BGR2GRAY)\n",
    "(thresh, binary_image) = cv2.threshold(grayscale_image, 127, 255, cv2.THRESH_BINARY)"
   ]
  },
  {
   "cell_type": "code",
   "execution_count": null,
   "id": "18b61db5-770c-471c-b975-d21c0b2c9767",
   "metadata": {},
   "outputs": [],
   "source": [
    "bit_and=cv2.bitwise_and(img,mask)\n",
    "bit_not=cv2.bitwise_not(bit_and)\n",
    "bit_or=cv2.bitwise_or(img,mask)\n",
    "bit_xor=cv2.bitwise_xor(img,mask)\n",
    "result=cv2.bitwise_and(bit_not,bit_or)"
   ]
  },
  {
   "cell_type": "code",
   "execution_count": null,
   "id": "9ba1c461-01bf-4c5c-a651-19970469df8c",
   "metadata": {},
   "outputs": [],
   "source": [
    "cv2.imshow(\"Original\",img)\n",
    "cv2.imshow(\"Mask\",mask)\n",
    "cv2.imshow(\"Binary\",binary_image)\n",
    "#cv2.imshow(\"AND\",bit_and)\n",
    "#cv2.imshow(\"NOT\",bit_not)\n",
    "#cv2.imshow(\"OR\",bit_or)\n",
    "#cv2.imwrite('output.jpg', bit_or)\n",
    "#cv2.imshow(\"XOR\",bit_xor)\n",
    "#cv2.imshow(\"Result\",result)"
   ]
  },
  {
   "cell_type": "code",
   "execution_count": null,
   "id": "d1aa18a2-9da6-4a97-b43f-bddf06b3085f",
   "metadata": {},
   "outputs": [],
   "source": [
    "cv2.waitKey(0)\n",
    "cv2.destroyAllWindows()"
   ]
  },
  {
   "cell_type": "code",
   "execution_count": null,
   "id": "6b1ba04a-5069-42d0-88d6-cbb01464be6f",
   "metadata": {},
   "outputs": [],
   "source": []
  }
 ],
 "metadata": {
  "kernelspec": {
   "display_name": "Python 3 (ipykernel)",
   "language": "python",
   "name": "python3"
  },
  "language_info": {
   "codemirror_mode": {
    "name": "ipython",
    "version": 3
   },
   "file_extension": ".py",
   "mimetype": "text/x-python",
   "name": "python",
   "nbconvert_exporter": "python",
   "pygments_lexer": "ipython3",
   "version": "3.8.10"
  }
 },
 "nbformat": 4,
 "nbformat_minor": 5
}
