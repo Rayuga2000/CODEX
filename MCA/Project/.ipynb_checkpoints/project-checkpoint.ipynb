{
 "cells": [
  {
   "cell_type": "code",
   "execution_count": null,
   "id": "8fd80cd5-a264-4d3a-81e7-e185971234ea",
   "metadata": {},
   "outputs": [],
   "source": [
    "import cv2\n",
    "import numpy\n",
    "import matplotlib.pyplot as plt"
   ]
  },
  {
   "cell_type": "code",
   "execution_count": null,
   "id": "9711087d-2a33-41db-9627-abafd18e0b9b",
   "metadata": {},
   "outputs": [],
   "source": [
    "##Reading images\n",
    "\n",
    "img=cv2.imread(\"x.tif\")\n",
    "#img=cv2.resize(img, (3,3))\n",
    "#print(img)\n",
    "ground=cv2.imread(\"ground.jpg\")\n",
    "#img=cv2.resize(img, (640,480))\n",
    "#cv2.namedWindow('Images')"
   ]
  },
  {
   "cell_type": "code",
   "execution_count": null,
   "id": "a4c7c354-566f-417b-a4f5-b88bc00c50d4",
   "metadata": {},
   "outputs": [],
   "source": [
    "#pixels = list(img)\n",
    "#print(pixels)"
   ]
  },
  {
   "cell_type": "code",
   "execution_count": null,
   "id": "204b7d4c-ef68-49b1-98ea-a574b354ff8d",
   "metadata": {},
   "outputs": [],
   "source": [
    "#union of origial and ground image\n",
    "bit_or=cv2.bitwise_or(img,ground)"
   ]
  },
  {
   "cell_type": "code",
   "execution_count": null,
   "id": "43d7b8ad-5bcb-4ba1-a2e7-c655b9e44736",
   "metadata": {},
   "outputs": [],
   "source": [
    "##Channel seperation\n",
    "\n",
    "#split the image into its three channels\n",
    "(R,G,B) = cv2.split(bit_or)\n",
    "\n",
    "#display the images\n",
    "cv2.imshow(\"Blue\",B)\n",
    "cv2.imshow(\"Green\", G)\n",
    "cv2.imshow(\"Red\", R)"
   ]
  },
  {
   "cell_type": "code",
   "execution_count": null,
   "id": "6826ff65-990c-4375-bb20-161a7f3ebd1e",
   "metadata": {},
   "outputs": [],
   "source": [
    "#matrix of channels\n",
    "print(R,\"\\n\")\n",
    "print(G,\"\\n\")\n",
    "print(B,\"\\n\")"
   ]
  },
  {
   "cell_type": "code",
   "execution_count": null,
   "id": "33608cff-c0f3-47de-8bd2-4cb5999b6060",
   "metadata": {},
   "outputs": [],
   "source": [
    "##Show Result\n",
    "\n",
    "#cv2.imshow(\"Original\",img)\n",
    "#cv2.imshow(\"ground\",ground)\n",
    "#cv2.imshow(\"OR\",bit_or)\n",
    "\n",
    "cv2.waitKey(0)\n",
    "cv2.destroyAllWindows()"
   ]
  }
 ],
 "metadata": {
  "kernelspec": {
   "display_name": "Python 3 (ipykernel)",
   "language": "python",
   "name": "python3"
  },
  "language_info": {
   "codemirror_mode": {
    "name": "ipython",
    "version": 3
   },
   "file_extension": ".py",
   "mimetype": "text/x-python",
   "name": "python",
   "nbconvert_exporter": "python",
   "pygments_lexer": "ipython3",
   "version": "3.8.10"
  }
 },
 "nbformat": 4,
 "nbformat_minor": 5
}
