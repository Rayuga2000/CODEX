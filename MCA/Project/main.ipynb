{
 "cells": [
  {
   "cell_type": "code",
   "execution_count": 19,
   "id": "5a13199a",
   "metadata": {},
   "outputs": [
    {
     "name": "stdout",
     "output_type": "stream",
     "text": [
      "Values Before 45 : [ 15 25 35 ]\n",
      "Values Before 45 : [ 25 35 45 55 30 ]\n",
      "Values Before 45 : [ 22 33 44 ]\n",
      "Values Before 45 : [ 33 44 45 66 35 ]\n",
      "Values Before 45 : [ 55 ]\n",
      "Values Before 45 : [ 55 45 ]\n",
      "Values Before 45 : [ 45 45 35 56 65 ]\n",
      "Values Before 45 : [ 95 10 ]\n",
      "Values Before 45 : [ 95 10 45 ]\n",
      "Values Before 45 : [ 95 10 45 45 ]\n"
     ]
    }
   ],
   "source": [
    "import numpy as np\n",
    "\n",
    "# Example matrix\n",
    "matrix = np.array([[10, 20, 30, 40, 50, 25, 55],\n",
    "                   [15, 25, 35, 45, 55, 30, 45],\n",
    "                   [22, 33, 44, 45, 66, 35, 45],\n",
    "                   [55, 45, 45, 35, 56, 65, 45],\n",
    "                   [95, 10, 45, 45, 45, 22, 10]])\n",
    "\n",
    "# Element to search for\n",
    "target_element = 45\n",
    "\n",
    "# Iterate through each row of the matrix\n",
    "for row in matrix:\n",
    "    indices = np.where(row == target_element)[0]\n",
    "    #print(str(row)+':',indices)\n",
    "      # Get indices of occurrences of the target element in the row\n",
    "    \n",
    "    #values = list(row[index] for index in indices)\n",
    "\n",
    "    #print(values)\n",
    "\n",
    "    for index in indices:\n",
    "        values_before_element = row[max(0, index - 5):index]  # Extract values before the element\n",
    "        \n",
    "        # Format the values as a space-separated string without spaces between values\n",
    "        values_str = ' '.join([str(val) for val in values_before_element])\n",
    "        \n",
    "        print(\"Values Before\", target_element, \":\", \"[\", values_str, \"]\")"
   ]
  }
 ],
 "metadata": {
  "kernelspec": {
   "display_name": "Python 3 (ipykernel)",
   "language": "python",
   "name": "python3"
  },
  "language_info": {
   "codemirror_mode": {
    "name": "ipython",
    "version": 3
   },
   "file_extension": ".py",
   "mimetype": "text/x-python",
   "name": "python",
   "nbconvert_exporter": "python",
   "pygments_lexer": "ipython3",
   "version": "3.8.10"
  }
 },
 "nbformat": 4,
 "nbformat_minor": 5
}
