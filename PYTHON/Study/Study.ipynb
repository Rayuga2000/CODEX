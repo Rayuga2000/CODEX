{
 "cells": [
  {
   "cell_type": "code",
   "execution_count": null,
   "metadata": {},
   "outputs": [],
   "source": [
    "#seperate by '-'\n",
    "print('12','4','2022',sep='-')\n",
    "#seperate by '@' end by '.'\n",
    "print('tsarkar431','gmail',sep='@',end='.') #since seperated by '.' it's not adding '\\n' at the end\n",
    "print('com')"
   ]
  },
  {
   "cell_type": "code",
   "execution_count": null,
   "metadata": {},
   "outputs": [],
   "source": [
    "#Ternary Operators\n",
    "a,b,c=input(\"Enter the Numbers: \").split()\n",
    "\n",
    "print(\"a\" if a>(b if b>c else c) else \"b\" if b>c else \"c\",\"is greater\")"
   ]
  },
  {
   "cell_type": "code",
   "execution_count": null,
   "metadata": {},
   "outputs": [],
   "source": [
    "#Ternary Operators\n",
    "num=int(input(\"Enter the number: \"))\n",
    "\n",
    "print(\"FizzBuzz\" if (num%3==0 and num%5==0) else (\"Fizz\" if num%3==0 else (\"Buzz\" if num%5==0 else num)))"
   ]
  },
  {
   "cell_type": "code",
   "execution_count": null,
   "metadata": {},
   "outputs": [],
   "source": [
    "print (-5//2) # '//' returns the closest int value '<=' to the actual division value"
   ]
  },
  {
   "cell_type": "code",
   "execution_count": null,
   "metadata": {},
   "outputs": [],
   "source": [
    "#Change the type of the variables\n",
    "def int_to_str(x):\n",
    "    x=str(x)\n",
    "    print(x,type(x))\n",
    "\n",
    "def str_to_int(y):\n",
    "    y=int(y)\n",
    "    print(y,type(y))\n",
    "    print()    \n",
    "\n",
    "int_to_str(10)\n",
    "str_to_int(\"5\")"
   ]
  },
  {
   "cell_type": "code",
   "execution_count": null,
   "metadata": {},
   "outputs": [],
   "source": [
    "#Weird if_else\n",
    "n=int(input(\"Enter the Number:\"))\n",
    "\n",
    "if n%2!=0:\n",
    "    print(\"Weird\")\n",
    "elif n%2==0 and (n>=2 and n<=5):\n",
    "    print(\"Not Weird\")\n",
    "elif n%2==0 and (n>=6 and n<=20):\n",
    "    print(\"Weird\")\n",
    "elif n%2==0 and n>20:\n",
    "    print(\"Not Weird\")"
   ]
  },
  {
   "cell_type": "code",
   "execution_count": null,
   "metadata": {},
   "outputs": [],
   "source": [
    "if __name__ == '__main__':\n",
    "    a = int(input())\n",
    "    b = int(input())\n",
    "    \n",
    "    print(a+b)\n",
    "    print(a-b)\n",
    "    print(a*b)"
   ]
  },
  {
   "cell_type": "code",
   "execution_count": null,
   "metadata": {},
   "outputs": [],
   "source": [
    "from __future__ import division\n",
    "\n",
    "if __name__ == '__main__':\n",
    "    a = int(input())\n",
    "    b = int(input())\n",
    "\n",
    "print(\"Integer Division:\",a//b)#division where only numbers on the left side of floating point is shown\n",
    "print(\"Float Division\",a/b)#division where whole float number is shown"
   ]
  },
  {
   "cell_type": "code",
   "execution_count": null,
   "metadata": {},
   "outputs": [],
   "source": []
  },
  {
   "cell_type": "code",
   "execution_count": null,
   "metadata": {},
   "outputs": [],
   "source": []
  }
 ],
 "metadata": {
  "interpreter": {
   "hash": "c5e844140b0ef273868662dafcc4b71806c603a7af8c17d0d208eae528d8a6a2"
  },
  "kernelspec": {
   "display_name": "Python 3.9.7 ('base')",
   "language": "python",
   "name": "python3"
  },
  "language_info": {
   "codemirror_mode": {
    "name": "ipython",
    "version": 3
   },
   "file_extension": ".py",
   "mimetype": "text/x-python",
   "name": "python",
   "nbconvert_exporter": "python",
   "pygments_lexer": "ipython3",
   "version": "3.9.7"
  },
  "orig_nbformat": 4
 },
 "nbformat": 4,
 "nbformat_minor": 2
}
