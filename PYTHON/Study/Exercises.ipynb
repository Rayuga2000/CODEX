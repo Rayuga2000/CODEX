{
 "cells": [
  {
   "cell_type": "code",
   "execution_count": null,
   "metadata": {},
   "outputs": [],
   "source": [
    "#Find if the Year is a leap year\n",
    "year=int(input(\"Enter the year:\"))\n",
    "\n",
    "if year%400==0:\n",
    "    print(\"The year is a leap year\")\n",
    "elif year%100==0:\n",
    "    print(\"The year is not a leap year\")\n",
    "elif year%4==0:\n",
    "    print(\"The year is a leap year\")\n",
    "else:\n",
    "    print(\"The year is not a leap year\")"
   ]
  },
  {
   "cell_type": "code",
   "execution_count": null,
   "metadata": {},
   "outputs": [],
   "source": [
    "#Leap Year with function\n",
    "def isLeap(year):\n",
    "    leap=False\n",
    "\n",
    "    if year%100==0:\n",
    "        if year%400==0:\n",
    "            leap=True\n",
    "    elif year%4==0:\n",
    "        leap=True\n",
    "\n",
    "    return leap\n",
    "\n",
    "year=int(input(\"Enter the Year:\"))\n",
    "if(isLeap(year)):\n",
    "    print(\"The year is a Leap Year\")\n",
    "else:\n",
    "    print(\"The year is not a Leap Year\")"
   ]
  },
  {
   "cell_type": "code",
   "execution_count": null,
   "metadata": {},
   "outputs": [],
   "source": [
    "#Find factorial of a given number\n",
    "num=int(input(\"Enter the Number:\"))\n",
    "f=1\n",
    "temp=num\n",
    "\n",
    "while(num>0):\n",
    "    f=f*num\n",
    "    num=num-1\n",
    "\n",
    "print(\"Factorial of\",temp,\"is:\",f)"
   ]
  },
  {
   "cell_type": "code",
   "execution_count": null,
   "metadata": {},
   "outputs": [],
   "source": [
    "#Summation of list elements\n",
    "x=[1,3,3]\n",
    "sum=0\n",
    "\n",
    "for i in x:\n",
    "    sum=sum+i\n",
    "\n",
    "print(sum)"
   ]
  },
  {
   "cell_type": "code",
   "execution_count": null,
   "metadata": {},
   "outputs": [],
   "source": [
    "#Print the Fibonacci Series\n",
    "\n",
    "prev1=0;prev2=1;i=1\n",
    "\n",
    "n=int(input(\"Enter the Range: \"))\n",
    "\n",
    "print(\"The Fibonacci Series are:\")\n",
    "\n",
    "if (n-1==0):\n",
    "    print(\"0\")\n",
    "elif (n-1==1):\n",
    "    print(\"0,1\")\n",
    "else:\n",
    "    print(\"0 1\",end=\" \")\n",
    "    while(i<n-2):\n",
    "        new=prev1+prev2\n",
    "        print(new,end=\" \")\n",
    "        prev1=prev2\n",
    "        prev2=new\n",
    "        i=i+1"
   ]
  },
  {
   "cell_type": "code",
   "execution_count": null,
   "metadata": {},
   "outputs": [],
   "source": [
    "#Matrix addition with user input\n",
    "l1=[]\n",
    "l2=[]\n",
    "l=[[],[],[]]\n",
    "\n",
    "print(\"Enter the 1st Matrix:\")\n",
    "#take the inputs as a list and append the whole list as an element to another list iteratively\n",
    "for i in range(3):\n",
    "    l1.append(input().split())\n",
    "\n",
    "print(\"Enter the 2nd Matrix:\")\n",
    "for i in range(3):\n",
    "    l2.append(input().split())\n",
    "\n",
    "print(\"The first matrix is:\")\n",
    "for i in range(3):\n",
    "    print(l1[i])\n",
    "\n",
    "print(\"The second matrix is:\")\n",
    "for i in range(3):\n",
    "    print(l2[i])\n",
    "\n",
    "print(\"The addition matrix is:\")\n",
    "for i in range(3):\n",
    "    for j in range(3):\n",
    "        l[i].append(int(l1[i][j])+int(l2[i][j]))\n",
    "\n",
    "for i in range(3):\n",
    "    print(l[i])"
   ]
  },
  {
   "cell_type": "code",
   "execution_count": null,
   "metadata": {},
   "outputs": [],
   "source": [
    "#Matrix Multiplication using arrays with user input\n",
    "import numpy as np\n",
    "\n",
    "r,c=map(int,input(\"Enter the row and col: \").split(' ',2))\n",
    "\n",
    "#mat1=np.array([input(\"Enter elements for 1st Matrix:\") for i in range(r*c)],int)\n",
    "mat1=np.array([input(\"Enter elements for 1st Matrix:\").split(\" \",(r*c))],int)\n",
    "mat2=np.array([input(\"Enter elements for 2nd Matrix:\").split(\" \",(r*c))],int)\n",
    "\n",
    "mat1.shape=(r,c)\n",
    "mat2.shape=(r,c)\n",
    "\n",
    "print(\"The 1st matrix is:\\n\",mat1)\n",
    "print(\"The 2nd matrix is:\\n\",mat2)\n",
    "print(\"Multiplied Matrix:\\n\",mat1@mat2)"
   ]
  },
  {
   "cell_type": "code",
   "execution_count": null,
   "metadata": {},
   "outputs": [],
   "source": [
    "import numpy as np\n",
    "\n",
    "n=input()\n",
    "arr=np.array([(input().split(\" \",n))],dtype=int)\n",
    "print (arr)#np.linalg.det(arr))"
   ]
  },
  {
   "cell_type": "code",
   "execution_count": null,
   "metadata": {},
   "outputs": [],
   "source": [
    "import numpy as np\n",
    "\n",
    "def QuickSort(arr,low,high):\n",
    "    l=low\n",
    "    h=high\n",
    "    pivot=l\n",
    "\n",
    "    while(low<high):\n",
    "        if(arr[low]<=arr[pivot]):\n",
    "            low+=1\n",
    "        elif(arr[high]>arr[pivot]):\n",
    "            high-=1\n",
    "        else:\n",
    "            arr[low],arr[high]=arr[high],arr[low]\n",
    "\n",
    "    arr[pivot],arr[high]=arr[high],arr[pivot]\n",
    "\n",
    "    if(pivot!=high):\n",
    "        QuickSort(arr,l,high-1)\n",
    "        QuickSort(arr,high+1,h)\n",
    "\n",
    "    return arr\n",
    "\n",
    "\n",
    "\n",
    "arr=np.array([16,17,9,5,8,25,27,32])\n",
    "print(QuickSort(arr,0,7))\n",
    "\n"
   ]
  }
 ],
 "metadata": {
  "kernelspec": {
   "display_name": "Python 3.9.12 ('base')",
   "language": "python",
   "name": "python3"
  },
  "language_info": {
   "codemirror_mode": {
    "name": "ipython",
    "version": 3
   },
   "file_extension": ".py",
   "mimetype": "text/x-python",
   "name": "python",
   "nbconvert_exporter": "python",
   "pygments_lexer": "ipython3",
   "version": "3.9.12"
  },
  "orig_nbformat": 4,
  "vscode": {
   "interpreter": {
    "hash": "8217e151f2f5a58119fbba46315e5cfd0f68f6c4d670d3e01359472600e87705"
   }
  }
 },
 "nbformat": 4,
 "nbformat_minor": 2
}
