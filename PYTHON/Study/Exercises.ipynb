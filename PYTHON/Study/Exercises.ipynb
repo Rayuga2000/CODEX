{
 "cells": [
  {
   "cell_type": "code",
   "execution_count": null,
   "metadata": {},
   "outputs": [],
   "source": [
    "#Find if the Year is a leap year\n",
    "year=int(input(\"Enter the year:\"))\n",
    "\n",
    "if year%400==0:\n",
    "    print(\"The year is a leap year\")\n",
    "elif year%100==0:\n",
    "    print(\"The year is not a leap year\")\n",
    "elif year%4==0:\n",
    "    print(\"The year is a leap year\")\n",
    "else:\n",
    "    print(\"The year is not a leap year\")"
   ]
  },
  {
   "cell_type": "code",
   "execution_count": null,
   "metadata": {},
   "outputs": [],
   "source": [
    "#Find factorial of a given number\n",
    "num=int(input(\"Enter the Number:\"))\n",
    "f=1\n",
    "temp=num\n",
    "\n",
    "while(num>0):\n",
    "    f=f*num\n",
    "    num=num-1\n",
    "\n",
    "print(\"Factorial of\",temp,\"is:\",f)"
   ]
  },
  {
   "cell_type": "code",
   "execution_count": null,
   "metadata": {},
   "outputs": [],
   "source": [
    "#Summation of list elements\n",
    "x=[1,3,3]\n",
    "sum=0\n",
    "\n",
    "for i in x:\n",
    "    sum=sum+i\n",
    "\n",
    "print(sum)"
   ]
  },
  {
   "cell_type": "code",
   "execution_count": null,
   "metadata": {},
   "outputs": [],
   "source": [
    "#Print the Fibonacci Series\n",
    "\n",
    "prev1=0;prev2=1;i=1\n",
    "\n",
    "n=int(input(\"Enter the Range: \"))\n",
    "\n",
    "print(\"The Fibonacci Series are:\")\n",
    "\n",
    "if (n-1==0):\n",
    "    print(\"0\")\n",
    "elif (n-1==1):\n",
    "    print(\"0,1\")\n",
    "else:\n",
    "    print(\"0 1\",end=\" \")\n",
    "    while(i<n-2):\n",
    "        new=prev1+prev2\n",
    "        print(new,end=\" \")\n",
    "        prev1=prev2\n",
    "        prev2=new\n",
    "        i=i+1"
   ]
  },
  {
   "cell_type": "code",
   "execution_count": null,
   "metadata": {},
   "outputs": [],
   "source": [
    "#Matrix addition with user input\n",
    "l1=[]\n",
    "l2=[]\n",
    "l=[[],[],[]]\n",
    "\n",
    "print(\"Enter the 1st Matrix:\")\n",
    "#take the inputs as a list and append the whole list as an element to another list iteratively\n",
    "for i in range(3):\n",
    "    l1.append(input().split())\n",
    "\n",
    "print(\"Enter the 2nd Matrix:\")\n",
    "for i in range(3):\n",
    "    l2.append(input().split())\n",
    "\n",
    "print(\"The first matrix is:\")\n",
    "for i in range(3):\n",
    "    print(l1[i])\n",
    "\n",
    "print(\"The second matrix is:\")\n",
    "for i in range(3):\n",
    "    print(l2[i])\n",
    "\n",
    "print(\"The addition matrix is:\")\n",
    "for i in range(3):\n",
    "    for j in range(3):\n",
    "        l[i].append(int(l1[i][j])+int(l2[i][j]))\n",
    "\n",
    "for i in range(3):\n",
    "    print(l[i])"
   ]
  }
 ],
 "metadata": {
  "interpreter": {
   "hash": "e7370f93d1d0cde622a1f8e1c04877d8463912d04d973331ad4851f04de6915a"
  },
  "kernelspec": {
   "display_name": "Python 3.10.4 64-bit",
   "language": "python",
   "name": "python3"
  },
  "language_info": {
   "codemirror_mode": {
    "name": "ipython",
    "version": 3
   },
   "file_extension": ".py",
   "mimetype": "text/x-python",
   "name": "python",
   "nbconvert_exporter": "python",
   "pygments_lexer": "ipython3",
   "version": "3.9.7"
  },
  "orig_nbformat": 4
 },
 "nbformat": 4,
 "nbformat_minor": 2
}
