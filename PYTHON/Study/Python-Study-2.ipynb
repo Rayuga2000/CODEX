{
 "cells": [
  {
   "cell_type": "code",
   "execution_count": null,
   "metadata": {},
   "outputs": [],
   "source": [
    "#Find if the Year is a leap year\n",
    "year=int(input(\"Enter the year:\"))\n",
    "\n",
    "if year%400==0:\n",
    "    print(\"The year is a leap year\")\n",
    "elif year%100==0:\n",
    "    print(\"The year is not a leap year\")\n",
    "elif year%4==0:\n",
    "    print(\"The year is a leap year\")\n",
    "else:\n",
    "    print(\"The year is not a leap year\")"
   ]
  },
  {
   "cell_type": "code",
   "execution_count": null,
   "metadata": {},
   "outputs": [],
   "source": [
    "#Find factorial of a given number\n",
    "num=int(input(\"Enter the Number:\"))\n",
    "f=1\n",
    "temp=num\n",
    "\n",
    "while(num>0):\n",
    "    f=f*num\n",
    "    num=num-1\n",
    "\n",
    "print(\"Factorial of\",temp,\"is:\",f)"
   ]
  },
  {
   "cell_type": "code",
   "execution_count": null,
   "metadata": {},
   "outputs": [],
   "source": [
    "#Summation of list elements\n",
    "x=[1,3,3]\n",
    "sum=0\n",
    "\n",
    "for i in x:\n",
    "    sum=sum+i\n",
    "\n",
    "print(sum)"
   ]
  }
 ],
 "metadata": {
  "interpreter": {
   "hash": "e7370f93d1d0cde622a1f8e1c04877d8463912d04d973331ad4851f04de6915a"
  },
  "kernelspec": {
   "display_name": "Python 3.10.4 64-bit",
   "language": "python",
   "name": "python3"
  },
  "language_info": {
   "codemirror_mode": {
    "name": "ipython",
    "version": 3
   },
   "file_extension": ".py",
   "mimetype": "text/x-python",
   "name": "python",
   "nbconvert_exporter": "python",
   "pygments_lexer": "ipython3",
   "version": "3.9.7"
  },
  "orig_nbformat": 4
 },
 "nbformat": 4,
 "nbformat_minor": 2
}
