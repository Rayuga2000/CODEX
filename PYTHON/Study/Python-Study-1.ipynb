{
 "cells": [
  {
   "cell_type": "code",
   "execution_count": 25,
   "metadata": {},
   "outputs": [
    {
     "name": "stdout",
     "output_type": "stream",
     "text": [
      "12-4-2022\n",
      "tsarkar431@gmail.com\n"
     ]
    }
   ],
   "source": [
    "#seperate by '-'\n",
    "print('12','4','2022',sep='-')\n",
    "#seperate by '@' end by '.'\n",
    "print('tsarkar431','gmail',sep='@',end='.') #since seperated by '.' it's not adding '\\n' at the end\n",
    "print('com')"
   ]
  },
  {
   "cell_type": "code",
   "execution_count": 26,
   "metadata": {},
   "outputs": [
    {
     "name": "stdout",
     "output_type": "stream",
     "text": [
      "c is greater\n"
     ]
    }
   ],
   "source": [
    "#Ternary Operator\n",
    "a,b,c=input(\"Enter the Numbers: \").split()\n",
    "print(\"a\" if a>(b if b>c else c) else \"b\" if b>c else \"c\",\"is greater\")"
   ]
  },
  {
   "cell_type": "code",
   "execution_count": 27,
   "metadata": {},
   "outputs": [
    {
     "name": "stdout",
     "output_type": "stream",
     "text": [
      "-3\n"
     ]
    }
   ],
   "source": [
    "print (-5//2) # '//' returns the closest int value '<=' to the actual division value"
   ]
  },
  {
   "cell_type": "code",
   "execution_count": 28,
   "metadata": {},
   "outputs": [
    {
     "name": "stdout",
     "output_type": "stream",
     "text": [
      "10 <class 'str'>\n",
      "5 <class 'int'>\n",
      "\n"
     ]
    }
   ],
   "source": [
    "def int_to_str(x):\n",
    "    x=str(x)\n",
    "    print(x,type(x))\n",
    "\n",
    "def str_to_int(y):\n",
    "    y=int(y)\n",
    "    print(y,type(y))\n",
    "    print()    \n",
    "\n",
    "int_to_str(10)\n",
    "str_to_int(\"5\")"
   ]
  },
  {
   "cell_type": "code",
   "execution_count": 29,
   "metadata": {},
   "outputs": [
    {
     "name": "stdout",
     "output_type": "stream",
     "text": [
      "FizzBuzz\n"
     ]
    }
   ],
   "source": [
    "num=int(input(\"Enter the number: \"))\n",
    "\n",
    "print(\"FizzBuzz\" if (num%3==0 and num%5==0) else (\"Fizz\" if num%3==0 else (\"Buzz\" if num%5==0 else num)))"
   ]
  }
 ],
 "metadata": {
  "interpreter": {
   "hash": "c5e844140b0ef273868662dafcc4b71806c603a7af8c17d0d208eae528d8a6a2"
  },
  "kernelspec": {
   "display_name": "Python 3.9.7 ('base')",
   "language": "python",
   "name": "python3"
  },
  "language_info": {
   "codemirror_mode": {
    "name": "ipython",
    "version": 3
   },
   "file_extension": ".py",
   "mimetype": "text/x-python",
   "name": "python",
   "nbconvert_exporter": "python",
   "pygments_lexer": "ipython3",
   "version": "3.9.7"
  },
  "orig_nbformat": 4
 },
 "nbformat": 4,
 "nbformat_minor": 2
}
