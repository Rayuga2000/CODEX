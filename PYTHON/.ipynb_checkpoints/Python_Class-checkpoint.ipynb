{
 "cells": [
  {
   "cell_type": "code",
   "execution_count": 1,
   "id": "107ae4f0",
   "metadata": {},
   "outputs": [],
   "source": [
    "def add(a,b):\n",
    "    return(a+b)"
   ]
  },
  {
   "cell_type": "code",
   "execution_count": 2,
   "id": "48684f3e",
   "metadata": {},
   "outputs": [
    {
     "data": {
      "text/plain": [
       "11"
      ]
     },
     "execution_count": 2,
     "metadata": {},
     "output_type": "execute_result"
    }
   ],
   "source": [
    "add(5,6)"
   ]
  },
  {
   "cell_type": "code",
   "execution_count": 3,
   "id": "4acae0d8",
   "metadata": {},
   "outputs": [
    {
     "data": {
      "text/plain": [
       "'Tushar Sarkar'"
      ]
     },
     "execution_count": 3,
     "metadata": {},
     "output_type": "execute_result"
    }
   ],
   "source": [
    "add(\"Tushar\",\" Sarkar\")"
   ]
  },
  {
   "cell_type": "code",
   "execution_count": 4,
   "id": "960cec76",
   "metadata": {},
   "outputs": [
    {
     "data": {
      "text/plain": [
       "20.656"
      ]
     },
     "execution_count": 4,
     "metadata": {},
     "output_type": "execute_result"
    }
   ],
   "source": [
    "add(10,10.656)"
   ]
  },
  {
   "cell_type": "code",
   "execution_count": 5,
   "id": "df2c9634",
   "metadata": {
    "scrolled": true
   },
   "outputs": [
    {
     "name": "stdout",
     "output_type": "stream",
     "text": [
      "11 Tushar Sarkar 20.656\n"
     ]
    }
   ],
   "source": [
    "print(add(5,6),\n",
    "add(\"Tushar\",\" Sarkar\"),\n",
    "add(10,10.656)\n",
    ")"
   ]
  },
  {
   "cell_type": "code",
   "execution_count": 6,
   "id": "61be990c",
   "metadata": {},
   "outputs": [],
   "source": [
    "import math\n",
    "def circle(r):\n",
    "    return(math.pi*r**2)"
   ]
  },
  {
   "cell_type": "code",
   "execution_count": 7,
   "id": "ae150749",
   "metadata": {
    "scrolled": true
   },
   "outputs": [
    {
     "name": "stdout",
     "output_type": "stream",
     "text": [
      "78.53981633974483\n"
     ]
    }
   ],
   "source": [
    "print(circle(5))"
   ]
  },
  {
   "cell_type": "code",
   "execution_count": 8,
   "id": "87d336ac",
   "metadata": {},
   "outputs": [
    {
     "data": {
      "text/plain": [
       "[20, 30, 6, 0, 45]"
      ]
     },
     "execution_count": 8,
     "metadata": {},
     "output_type": "execute_result"
    }
   ],
   "source": [
    "l=[10,20,30,6,0,45,20]\n",
    "l[1:6]\n"
   ]
  },
  {
   "cell_type": "code",
   "execution_count": 9,
   "id": "a949cdab",
   "metadata": {
    "scrolled": true
   },
   "outputs": [
    {
     "data": {
      "text/plain": [
       "0"
      ]
     },
     "execution_count": 9,
     "metadata": {},
     "output_type": "execute_result"
    }
   ],
   "source": [
    "l[-3]"
   ]
  },
  {
   "cell_type": "code",
   "execution_count": 10,
   "id": "4a08c8f0",
   "metadata": {},
   "outputs": [
    {
     "data": {
      "text/plain": [
       "[10, 30, 0, 20]"
      ]
     },
     "execution_count": 10,
     "metadata": {},
     "output_type": "execute_result"
    }
   ],
   "source": [
    "l[::2]"
   ]
  },
  {
   "cell_type": "code",
   "execution_count": 11,
   "id": "bf638141",
   "metadata": {},
   "outputs": [
    {
     "data": {
      "text/plain": [
       "[10, 20, 30, 6, 0, 45, 20]"
      ]
     },
     "execution_count": 11,
     "metadata": {},
     "output_type": "execute_result"
    }
   ],
   "source": [
    "l[::]"
   ]
  },
  {
   "cell_type": "code",
   "execution_count": 12,
   "id": "f32de544",
   "metadata": {},
   "outputs": [
    {
     "data": {
      "text/plain": [
       "[0, 45, 20]"
      ]
     },
     "execution_count": 12,
     "metadata": {},
     "output_type": "execute_result"
    }
   ],
   "source": [
    "l[4:]"
   ]
  },
  {
   "cell_type": "code",
   "execution_count": 13,
   "id": "bfba80d6",
   "metadata": {},
   "outputs": [
    {
     "data": {
      "text/plain": [
       "[10, 20, 30, 6, 0, 45, 20]"
      ]
     },
     "execution_count": 13,
     "metadata": {},
     "output_type": "execute_result"
    }
   ],
   "source": [
    "l[:]"
   ]
  },
  {
   "cell_type": "code",
   "execution_count": 14,
   "id": "8198f6e3",
   "metadata": {
    "scrolled": true
   },
   "outputs": [
    {
     "data": {
      "text/plain": [
       "[20, 45, 0]"
      ]
     },
     "execution_count": 14,
     "metadata": {},
     "output_type": "execute_result"
    }
   ],
   "source": [
    "l[-1:-4:-1]"
   ]
  },
  {
   "cell_type": "code",
   "execution_count": 15,
   "id": "dc7fad00",
   "metadata": {},
   "outputs": [
    {
     "data": {
      "text/plain": [
       "[10, 20, 30, 6, 0, 45, 20, 100]"
      ]
     },
     "execution_count": 15,
     "metadata": {},
     "output_type": "execute_result"
    }
   ],
   "source": [
    "l.insert(8,100)\n",
    "l[:]"
   ]
  },
  {
   "cell_type": "code",
   "execution_count": 6,
   "id": "466461d5",
   "metadata": {},
   "outputs": [
    {
     "data": {
      "text/plain": [
       "[10, 20, 30, 6, 0, 45, 20, 20, 30, 32]"
      ]
     },
     "execution_count": 6,
     "metadata": {},
     "output_type": "execute_result"
    }
   ],
   "source": [
    "l1=[20,30,32]\n",
    "l=[10,20,30,6,0,45,20]\n",
    "l.extend(l1)\n",
    "l[:]"
   ]
  },
  {
   "cell_type": "code",
   "execution_count": 7,
   "id": "1e8e719c",
   "metadata": {},
   "outputs": [
    {
     "data": {
      "text/plain": [
       "32"
      ]
     },
     "execution_count": 7,
     "metadata": {},
     "output_type": "execute_result"
    }
   ],
   "source": [
    "l.pop()"
   ]
  },
  {
   "cell_type": "code",
   "execution_count": 8,
   "id": "20ddf26d",
   "metadata": {},
   "outputs": [
    {
     "data": {
      "text/plain": [
       "20"
      ]
     },
     "execution_count": 8,
     "metadata": {},
     "output_type": "execute_result"
    }
   ],
   "source": [
    "l.pop(1)"
   ]
  },
  {
   "cell_type": "code",
   "execution_count": 10,
   "id": "70882368",
   "metadata": {},
   "outputs": [],
   "source": [
    "l.remove(30)"
   ]
  },
  {
   "cell_type": "code",
   "execution_count": 11,
   "id": "9371164e",
   "metadata": {},
   "outputs": [
    {
     "data": {
      "text/plain": [
       "[10, 6, 0, 45, 20, 20, 30]"
      ]
     },
     "execution_count": 11,
     "metadata": {},
     "output_type": "execute_result"
    }
   ],
   "source": [
    "l[:]"
   ]
  },
  {
   "cell_type": "code",
   "execution_count": 15,
   "id": "9929f0d7",
   "metadata": {},
   "outputs": [
    {
     "name": "stdout",
     "output_type": "stream",
     "text": [
      "The Duplicates are: [20]\n"
     ]
    }
   ],
   "source": [
    "l1=[]\n",
    "l=[10,20,30,6,0,45,20]\n",
    "for i in range(len(l)):\n",
    "    if(l.count(l[i])>1):\n",
    "        if(l1.count(l[i])<1):\n",
    "            l1.append(l[i])\n",
    "        \n",
    "print(\"The Duplicates are:\",l1)\n"
   ]
  },
  {
   "cell_type": "code",
   "execution_count": 14,
   "id": "474a5eec",
   "metadata": {},
   "outputs": [
    {
     "name": "stdout",
     "output_type": "stream",
     "text": [
      "The New array is: [1, 3, 6]\n"
     ]
    }
   ],
   "source": [
    "l=[1,2,3]\n",
    "l1=[]\n",
    "\n",
    "for i in range(len(l)):\n",
    "    l1.append(sum(l[:i+1]))\n",
    "        \n",
    "print(\"The New array is:\",l1[:])"
   ]
  },
  {
   "cell_type": "code",
   "execution_count": 15,
   "id": "d260f658",
   "metadata": {
    "scrolled": true
   },
   "outputs": [
    {
     "name": "stdout",
     "output_type": "stream",
     "text": [
      "Enter the Name of the Students: \n",
      "sd\n",
      "sd\n",
      "s\n",
      "d\n",
      "f\n",
      "The List is: ['sd', 'sd', 's', 'd', 'f']\n",
      "Enter another Name: ds\n",
      "The new List is: ['sd', 'sd', 's', 'd', 'f', 'ds']\n",
      "Enter the Index:5\n",
      "The Name in the Index is: ds\n",
      "New list after adding the new names: ['Kamal', 'Sanjana', 'sd', 'sd', 's', 'd', 'f', 'ds']\n",
      "Enter a Name to find or remove: d\n",
      "Original List: ['Kamal', 'Sanjana', 'sd', 'sd', 's', 'f', 'ds']\n",
      "Reversed List: ['ds', 'f', 's', 'sd', 'sd', 'Sanjana', 'Kamal']\n",
      "After removing last element: ['Kamal', 'Sanjana', 'sd', 'sd', 's', 'f']\n"
     ]
    }
   ],
   "source": [
    "l=[]\n",
    "print(\"Enter the Name of the Students: \")\n",
    "\n",
    "for i in range(5):\n",
    "    l.append(input());\n",
    "print(\"The List is:\",l[:])\n",
    "\n",
    "l.append(input(\"Enter another Name: \"))\n",
    "print(\"The new List is:\",l[:])\n",
    "\n",
    "index=int(input(\"Enter the Index:\"))\n",
    "print(\"The Name in the Index is:\",l[index])\n",
    "\n",
    "l1=[\"Kamal\",\"Sanjana\"]\n",
    "l=l1+l\n",
    "print(\"New list after adding the new names:\",l)\n",
    "\n",
    "name=input(\"Enter a Name to find or remove: \")\n",
    "if name in l:\n",
    "    l.remove(name)\n",
    "else:\n",
    "    l.append(name)\n",
    "    \n",
    "l2=l[-1::-1]\n",
    "print(\"Original List:\",l[:])\n",
    "print(\"Reversed List:\",l2[:])\n",
    "\n",
    "l.remove(l[-1])\n",
    "print(\"After removing last element:\",l[:])"
   ]
  },
  {
   "cell_type": "code",
   "execution_count": 1,
   "id": "6fca4c26",
   "metadata": {},
   "outputs": [
    {
     "ename": "NameError",
     "evalue": "name 'i' is not defined",
     "output_type": "error",
     "traceback": [
      "\u001b[0;31m---------------------------------------------------------------------------\u001b[0m",
      "\u001b[0;31mNameError\u001b[0m                                 Traceback (most recent call last)",
      "\u001b[0;32m/tmp/ipykernel_22421/2644491951.py\u001b[0m in \u001b[0;36m<module>\u001b[0;34m\u001b[0m\n\u001b[1;32m      3\u001b[0m \u001b[0ml3\u001b[0m\u001b[0;34m=\u001b[0m\u001b[0;34m[\u001b[0m\u001b[0;34m]\u001b[0m\u001b[0;34m\u001b[0m\u001b[0;34m\u001b[0m\u001b[0m\n\u001b[1;32m      4\u001b[0m \u001b[0;34m\u001b[0m\u001b[0m\n\u001b[0;32m----> 5\u001b[0;31m \u001b[0;32mwhile\u001b[0m \u001b[0mi\u001b[0m\u001b[0;34m<\u001b[0m\u001b[0mlen\u001b[0m\u001b[0;34m(\u001b[0m\u001b[0ml1\u001b[0m\u001b[0;34m)\u001b[0m \u001b[0;32mand\u001b[0m \u001b[0mj\u001b[0m\u001b[0;34m<\u001b[0m\u001b[0mlen\u001b[0m\u001b[0;34m(\u001b[0m\u001b[0ml2\u001b[0m\u001b[0;34m)\u001b[0m\u001b[0;34m:\u001b[0m\u001b[0;34m\u001b[0m\u001b[0;34m\u001b[0m\u001b[0m\n\u001b[0m\u001b[1;32m      6\u001b[0m         \u001b[0;32mif\u001b[0m\u001b[0;34m(\u001b[0m\u001b[0ml1\u001b[0m\u001b[0;34m[\u001b[0m\u001b[0mi\u001b[0m\u001b[0;34m]\u001b[0m\u001b[0;34m>\u001b[0m\u001b[0ml2\u001b[0m\u001b[0;34m[\u001b[0m\u001b[0mj\u001b[0m\u001b[0;34m]\u001b[0m\u001b[0;34m)\u001b[0m\u001b[0;34m:\u001b[0m\u001b[0;34m\u001b[0m\u001b[0;34m\u001b[0m\u001b[0m\n\u001b[1;32m      7\u001b[0m             \u001b[0ml3\u001b[0m\u001b[0;34m.\u001b[0m\u001b[0mappend\u001b[0m\u001b[0;34m(\u001b[0m\u001b[0ml2\u001b[0m\u001b[0;34m[\u001b[0m\u001b[0mj\u001b[0m\u001b[0;34m]\u001b[0m\u001b[0;34m)\u001b[0m\u001b[0;34m;\u001b[0m\u001b[0;34m\u001b[0m\u001b[0;34m\u001b[0m\u001b[0m\n",
      "\u001b[0;31mNameError\u001b[0m: name 'i' is not defined"
     ]
    }
   ],
   "source": [
    "l1=[10,20,30]\n",
    "l2=[50,60,302,502]\n",
    "l3=[]\n",
    "\n",
    "while i<len(l1) and j<len(l2):\n",
    "        if(l1[i]>l2[j]):\n",
    "            l3.append(l2[j]);\n",
    "            j=j+1\n",
    "        elif(l1[i]<l2[j]):\n",
    "            l3.append(l1[i])\n",
    "            i=i+1\n",
    "        else:\n",
    "            l3.append(l1[i])\n",
    "            l3.append(l1[i])\n",
    "            i=i+1\n",
    "            j=j+1\n",
    " \n",
    "while i<len(l1):\n",
    "    l3.append(l1[i])\n",
    "    i=i+1\n",
    "\n",
    "while j<len(l2):\n",
    "    l3.append(l2[j])\n",
    "    j=j+1\n",
    "\n",
    "l3[:]"
   ]
  },
  {
   "cell_type": "code",
   "execution_count": null,
   "id": "2867e2bd",
   "metadata": {},
   "outputs": [],
   "source": []
  }
 ],
 "metadata": {
  "kernelspec": {
   "display_name": "Python 3 (ipykernel)",
   "language": "python",
   "name": "python3"
  },
  "language_info": {
   "codemirror_mode": {
    "name": "ipython",
    "version": 3
   },
   "file_extension": ".py",
   "mimetype": "text/x-python",
   "name": "python",
   "nbconvert_exporter": "python",
   "pygments_lexer": "ipython3",
   "version": "3.9.7"
  }
 },
 "nbformat": 4,
 "nbformat_minor": 5
}
