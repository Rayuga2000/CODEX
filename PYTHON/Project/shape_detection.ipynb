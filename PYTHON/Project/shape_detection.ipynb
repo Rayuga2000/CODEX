{
 "cells": [
  {
   "cell_type": "code",
   "execution_count": 19,
   "id": "7e8e9f44",
   "metadata": {},
   "outputs": [],
   "source": [
    "import numpy as np\n",
    "import cv2\n",
    "\n",
    "img=cv2.imread('y.jpg')\n",
    "output = img.copy()\n",
    "img=cv2.resize(img, (600,500))\n",
    "cv2.imshow(\"original\", img)\n",
    "#lets detect shapes\n",
    "imggray=cv2.cvtColor(img,cv2.COLOR_BGR2GRAY)\n",
    "_,thresh=cv2.threshold(imggray, 240,255,cv2.THRESH_BINARY) #find the threshold of color in image\n",
    "\n",
    "circles = cv2.HoughCircles(imggray, cv2.HOUGH_GRADIENT, 1, 20,\n",
    "                          param1=50, param2=30, minRadius=10, maxRadius=100)\n",
    "detected_circles = np.uint16(np.around(circles))\n",
    "\n",
    "for (x, y ,r) in detected_circles[0, :]:\n",
    "    cv2.circle(output, (x, y), r, (0, 0, 0), 3)\n",
    "    cv2.putText(img, \"Circle\", (x, y), cv2.FONT_HERSHEY_COMPLEX, 0.7, (0, 0, 0), 2)\n",
    "\n",
    "contours,_=cv2.findContours(thresh, cv2.RETR_TREE,cv2.CHAIN_APPROX_SIMPLE) #IT WILL FIND THE CONTOUR IN IMAGE\n",
    "for contour in contours:\n",
    "    approx=cv2.approxPolyDP(contour,0.01*cv2.arcLength(contour,True),True) #this method approximate polygonal curve\n",
    "    cv2.drawContours(img,[approx],0,(0,0,0),3) #to draw contour\n",
    "    x=approx.ravel()[0]\n",
    "    y=approx.ravel()[1]-7 #defining the x and y point of shape to write text on it\n",
    "    #now if else conditions to find different shapes\n",
    "    #for triangle\n",
    "    if len(approx)==3: #triangle has 3 sides\n",
    "        cv2.putText(img,\"Triangle\",(x,y),cv2.FONT_HERSHEY_COMPLEX,0.7,(0,0,0),2)\n",
    "    #for square and rectangle\n",
    "    elif len(approx)==4:\n",
    "        x,y,w,h=cv2.boundingRect(approx)\n",
    "        if(x+w)==(y+h): #condition for square\n",
    "            cv2.putText(img, \"Square\", (x, y-5), cv2.FONT_HERSHEY_COMPLEX, 0.7, (0, 0, 0), 2)\n",
    "        else:# for rectangle\n",
    "            cv2.putText(img, \"Rectangle\", (x, y-10), cv2.FONT_HERSHEY_COMPLEX, 0.7, (0, 0, 0), 2)\n",
    "    elif len(approx)==6:\n",
    "        cv2.putText(img, \"Hexagon\", (x, y), cv2.FONT_HERSHEY_COMPLEX, 0.7, (0, 0, 0), 2)\n",
    "    elif len(approx)==5:\n",
    "        cv2.putText(img, \"Polygon\", (x-40, y), cv2.FONT_HERSHEY_COMPLEX, 0.7, (0, 0, 0), 2) #full polygon name is not visible\n",
    "    \"\"\"elif len(approx)==10:\n",
    "        cv2.putText(img, \"Star\", (x-35, y), cv2.FONT_HERSHEY_COMPLEX, 0.7, (0, 0, 0), 2) #now its good\n",
    "    else:\n",
    "        #cv2.putText(img, \"Circle\", (x, y), cv2.FONT_HERSHEY_COMPLEX, 0.7, (0, 0, 0), 2)\"\"\"\n",
    "cv2.imshow(\"Shape\", img)\n",
    "cv2.waitKey(0)\n",
    "cv2.destroyAllWindows()\n"
   ]
  },
  {
   "cell_type": "code",
   "execution_count": null,
   "id": "ad26cde4",
   "metadata": {},
   "outputs": [],
   "source": []
  },
  {
   "cell_type": "code",
   "execution_count": null,
   "id": "3ac72671",
   "metadata": {},
   "outputs": [],
   "source": []
  }
 ],
 "metadata": {
  "kernelspec": {
   "display_name": "Python 3 (ipykernel)",
   "language": "python",
   "name": "python3"
  },
  "language_info": {
   "codemirror_mode": {
    "name": "ipython",
    "version": 3
   },
   "file_extension": ".py",
   "mimetype": "text/x-python",
   "name": "python",
   "nbconvert_exporter": "python",
   "pygments_lexer": "ipython3",
   "version": "3.9.7"
  }
 },
 "nbformat": 4,
 "nbformat_minor": 5
}
