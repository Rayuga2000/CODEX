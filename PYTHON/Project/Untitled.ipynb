{
 "cells": [
  {
   "cell_type": "code",
   "execution_count": null,
   "id": "3368271b",
   "metadata": {},
   "outputs": [],
   "source": [
    "import numpy as np\n",
    "import math\n",
    "import cv2\n",
    "\n",
    "#y.jpg\n",
    "img=cv2.imread('x.jpg')\n",
    "output = img.copy()\n",
    "img=cv2.resize(img, (700,700))\n",
    "cv2.imshow(\"original\", img)\n",
    "#lets detect shapes\n",
    "imggray=cv2.cvtColor(img,cv2.COLOR_BGR2GRAY)\n",
    "_,thresh=cv2.threshold(imggray, 240,255,cv2.THRESH_BINARY) #find the threshold of color in image\n",
    "\n",
    "contours,_=cv2.findContours(thresh, cv2.RETR_TREE,cv2.CHAIN_APPROX_SIMPLE) #IT WILL FIND THE CONTOUR IN IMAGE\n",
    "\n",
    "for contour in contours:\n",
    "    approx=cv2.approxPolyDP(contour,0.01*cv2.arcLength(contour,True),True) #this method approximate polygonal curve\n",
    "    cv2.drawContours(img,[approx],0,(0,0,0),3) #to draw contour\n",
    "    x=approx.ravel()[0]\n",
    "    y=approx.ravel()[1]-7 #defining the x and y point of shape to write text on it\n",
    "\n",
    "    Area = cv2.contourArea(approx)\n",
    "    Perimeter=cv2.arcLength(approx,True)\n",
    "    circularity=(Perimeter**2)/(4*math.pi*(Area))\n",
    "    print(circularity)\n",
    "\n",
    "    #now if else conditions to find different shapes\n",
    "    #for triangle\n",
    "    \"\"\"if len(approx)==3: #triangle has 3 sides\n",
    "        cv2.putText(img,\"Triangle\",(x,y),cv2.FONT_HERSHEY_COMPLEX,0.7,(0,0,0),2)\n",
    "    #for square and rectangle\n",
    "    elif len(approx)==4:\n",
    "        x,y,w,h=cv2.boundingRect(approx)\n",
    "        if(x+w)==(y+h): #condition for square\n",
    "            cv2.putText(img, \"Square\", (x, y-5), cv2.FONT_HERSHEY_COMPLEX, 0.7, (0, 0, 0), 2)\n",
    "        else:# for rectangle\n",
    "            cv2.putText(img, \"Rectangle\", (x, y-10), cv2.FONT_HERSHEY_COMPLEX, 0.7, (0, 0, 0), 2)\n",
    "    elif len(approx)==6:\n",
    "        cv2.putText(img, \"Hexagon\", (x, y), cv2.FONT_HERSHEY_COMPLEX, 0.7, (0, 0, 0), 2)\n",
    "    elif len(approx)==5:\n",
    "        cv2.putText(img, \"Pentagon\", (x-40, y), cv2.FONT_HERSHEY_COMPLEX, 0.7, (0, 0, 0), 2)\n",
    "    else:\n",
    "        if circularity<=1:\n",
    "            cv2.putText(img, \"Circle\", (x, y), cv2.FONT_HERSHEY_COMPLEX, 0.7, (0, 0, 0), 2)                \n",
    "        else:\n",
    "            cv2.putText(img, \"Something Else\", (x, y), cv2.FONT_HERSHEY_COMPLEX, 0.7, (0, 0, 0), 2)\"\"\"\n",
    "       \n",
    "cv2.imshow(\"Shape\", img)\n",
    "#cv2.waitKey(0)\n",
    "#cv2.destroyAllWindows()\n"
   ]
  }
 ],
 "metadata": {
  "kernelspec": {
   "display_name": "Python 3.9.7 ('base')",
   "language": "python",
   "name": "python3"
  },
  "language_info": {
   "codemirror_mode": {
    "name": "ipython",
    "version": 3
   },
   "file_extension": ".py",
   "mimetype": "text/x-python",
   "name": "python",
   "nbconvert_exporter": "python",
   "pygments_lexer": "ipython3",
   "version": "3.9.7"
  },
  "vscode": {
   "interpreter": {
    "hash": "c5e844140b0ef273868662dafcc4b71806c603a7af8c17d0d208eae528d8a6a2"
   }
  }
 },
 "nbformat": 4,
 "nbformat_minor": 5
}
