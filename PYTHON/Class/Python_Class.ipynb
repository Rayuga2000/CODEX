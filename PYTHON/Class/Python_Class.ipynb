{
 "cells": [
  {
   "cell_type": "code",
   "execution_count": null,
   "id": "107ae4f0",
   "metadata": {},
   "outputs": [],
   "source": [
    "def add(a,b):\n",
    "    return(a+b)\n",
    "\n",
    "print(add(5,6),add(\"Tushar\",\" Sarkar\"),add(10,10.656))"
   ]
  },
  {
   "cell_type": "code",
   "execution_count": null,
   "id": "61be990c",
   "metadata": {},
   "outputs": [],
   "source": [
    "import math\n",
    "def circle(r):\n",
    "    return(math.pi*r**2)\n",
    "    \n",
    "print(circle(5))"
   ]
  },
  {
   "cell_type": "code",
   "execution_count": null,
   "id": "87d336ac",
   "metadata": {},
   "outputs": [],
   "source": [
    "l=[10,20,30,6,0,45,20]\n",
    "l[1:6]\n",
    "l[-3]\n",
    "l[::2]\n",
    "l[::]\n",
    "l[4:]\n",
    "l[:]\n",
    "l[-1:-4:-1]\n",
    "l.insert(8,100)\n",
    "l[:]"
   ]
  },
  {
   "cell_type": "code",
   "execution_count": null,
   "id": "466461d5",
   "metadata": {},
   "outputs": [],
   "source": [
    "l1=[20,30,32]\n",
    "l=[10,20,30,6,0,45,20]\n",
    "l.extend(l1)\n",
    "l[:]\n",
    "l.pop()\n",
    "l.pop(1)\n",
    "l.remove(30)\n",
    "l[:]"
   ]
  },
  {
   "cell_type": "code",
   "execution_count": null,
   "id": "9929f0d7",
   "metadata": {},
   "outputs": [],
   "source": [
    "l1=[]\n",
    "l=[10,20,30,6,0,45,20]\n",
    "for i in range(len(l)):\n",
    "    if(l.count(l[i])>1):\n",
    "        if(l1.count(l[i])<1):\n",
    "            l1.append(l[i])\n",
    "        \n",
    "print(\"The Duplicates are:\",l1)\n"
   ]
  },
  {
   "cell_type": "code",
   "execution_count": null,
   "id": "474a5eec",
   "metadata": {},
   "outputs": [],
   "source": [
    "l=[1,2,3]\n",
    "l1=[]\n",
    "\n",
    "for i in range(len(l)):\n",
    "    l1.append(sum(l[:i+1]))\n",
    "        \n",
    "print(\"The New array is:\",l1[:])"
   ]
  },
  {
   "cell_type": "code",
   "execution_count": null,
   "id": "d260f658",
   "metadata": {
    "scrolled": true
   },
   "outputs": [],
   "source": [
    "l=[]\n",
    "print(\"Enter the Name of the Students: \")\n",
    "\n",
    "for i in range(5):\n",
    "    l.append(input());\n",
    "print(\"The List is:\",l[:])\n",
    "\n",
    "l.append(input(\"Enter another Name: \"))\n",
    "print(\"The new List is:\",l[:])\n",
    "\n",
    "index=int(input(\"Enter the Index:\"))\n",
    "print(\"The Name in the Index is:\",l[index])\n",
    "\n",
    "l1=[\"Kamal\",\"Sanjana\"]\n",
    "l=l1+l\n",
    "print(\"New list after adding the new names:\",l)\n",
    "\n",
    "name=input(\"Enter a Name to find or remove: \")\n",
    "if name in l:\n",
    "    l.remove(name)\n",
    "else:\n",
    "    l.append(name)\n",
    "    \n",
    "l2=l[-1::-1]\n",
    "print(\"Original List:\",l[:])\n",
    "print(\"Reversed List:\",l2[:])\n",
    "\n",
    "l.remove(l[-1])\n",
    "print(\"After removing last element:\",l[:])"
   ]
  },
  {
   "cell_type": "code",
   "execution_count": null,
   "id": "6fca4c26",
   "metadata": {},
   "outputs": [],
   "source": [
    "l1=[10,20,30]\n",
    "l2=[50,60,302,502]\n",
    "l3=[];i=0;j=0\n",
    "\n",
    "while i<len(l1) and j<len(l2):\n",
    "        if(l1[i]>l2[j]):\n",
    "            l3.append(l2[j]);\n",
    "            j=j+1\n",
    "        elif(l1[i]<l2[j]):\n",
    "            l3.append(l1[i])\n",
    "            i=i+1\n",
    "        else:\n",
    "            l3.append(l1[i])\n",
    "            l3.append(l1[i])\n",
    "            i=i+1\n",
    "            j=j+1\n",
    " \n",
    "while i<len(l1):\n",
    "    l3.append(l1[i])\n",
    "    i=i+1\n",
    "\n",
    "while j<len(l2):\n",
    "    l3.append(l2[j])\n",
    "    j=j+1\n",
    "\n",
    "l3[:]"
   ]
  },
  {
   "cell_type": "code",
   "execution_count": null,
   "id": "2867e2bd",
   "metadata": {},
   "outputs": [],
   "source": [
    "#Matrix addition\n",
    "l1=[[1,2],[3,4]]\n",
    "l2=[[2,6],[-2,4]]\n",
    "l=[[],[]]\n",
    "for i in range(2):\n",
    "    for j in range(2):\n",
    "        l[i].append(l1[i][j]+l2[i][j])\n",
    "\n",
    "l[:]"
   ]
  },
  {
   "cell_type": "code",
   "execution_count": null,
   "id": "e72eed18",
   "metadata": {},
   "outputs": [],
   "source": [
    "#Dictionary\n",
    "emp={'E1':[30,200,'Tushar'],'E2':[10,30,'Aakash'],'E3':[10,1,'Abhrajit'],'E4':emp}\n",
    "e=emp#creating reference\n",
    "f=emp.copy()#copying the values\n",
    "emp.pop('E3')#delete the last element\n",
    "print(emp)\n",
    "print(emp.keys())\n",
    "l=list(emp.keys())\n",
    "print(emp[l[0]][2])\n",
    "print(emp['E1'][1])\n",
    "print(emp.items())\n",
    "print(emp.values())"
   ]
  },
  {
   "cell_type": "code",
   "execution_count": null,
   "id": "2d4874f8",
   "metadata": {},
   "outputs": [],
   "source": [
    "\"\"\"WAP to input 10 names and ph no. to store in a dictioanary and to input any name and to print the ph no. of\n",
    "the particular name\"\"\"\n",
    "\n",
    "PhoneBook=dict()\n",
    "\n",
    "for i in range(3):\n",
    "    name=input(\"Enter the name:\")\n",
    "    PhoneBook[name]=int(input(\"Enter the Number:\"))\n",
    "\n",
    "print(PhoneBook)"
   ]
  },
  {
   "cell_type": "code",
   "execution_count": null,
   "id": "78c5f303",
   "metadata": {},
   "outputs": [],
   "source": [
    "#Escape Sequence print\n",
    "print(\"\\\\n\")#add \\ before escape sequence to print it\n",
    "print(\"i like gita\\\\'s pink dress\")\n"
   ]
  },
  {
   "cell_type": "code",
   "execution_count": null,
   "id": "749fd72a",
   "metadata": {},
   "outputs": [],
   "source": [
    "str=\"Tushar\"\n",
    "str=str+\" Sarkar\"\n",
    "print(str)\n",
    "'T' in str#check if 'T' is in str\n",
    "print(str.upper())\n",
    "str.find('har')\n",
    "str.isalnum()\n",
    "str.strip()\n",
    "str.split()\n",
    "str.replace('Sarkar','SARKAR')\n",
    "'%'.join(str)"
   ]
  },
  {
   "cell_type": "code",
   "execution_count": null,
   "id": "64ee4581",
   "metadata": {},
   "outputs": [],
   "source": [
    "#WAP to print the string in reverse\n",
    "str=input(\"Enter the string:\")\n",
    "\n",
    "print(\"Reversed String:\",str[-1::-1])"
   ]
  },
  {
   "cell_type": "code",
   "execution_count": null,
   "id": "cb821f9b",
   "metadata": {},
   "outputs": [],
   "source": [
    "#WAP to find palindrome\n",
    "x=input(\"Enter the Number/String:\")\n",
    "\n",
    "if x.lower()==x.lower()[-1::-1]:\n",
    "    print(x,\"is Palindrome\")\n",
    "else:\n",
    "    print(x,\"is not Palindrome\")"
   ]
  },
  {
   "cell_type": "code",
   "execution_count": null,
   "id": "8f518f34",
   "metadata": {},
   "outputs": [],
   "source": [
    "#wap to split the string\n",
    "str=\"Successor\"\n",
    "str.split('s')"
   ]
  },
  {
   "cell_type": "code",
   "execution_count": null,
   "id": "327e0fc1",
   "metadata": {},
   "outputs": [],
   "source": [
    "#Pattern\n",
    "for i in range(1,6):\n",
    "    for j in range(i):\n",
    "        print(i,end=\"\")\n",
    "    print(\"\\n\")"
   ]
  },
  {
   "cell_type": "code",
   "execution_count": null,
   "id": "e2507e39",
   "metadata": {},
   "outputs": [],
   "source": [
    "str=\"---xx-xx---\"\n",
    "print(str.strip(\"-\"))#delete all the leading and trailing '-'\n",
    "print(str.lstrip(\"-\"))#delete all the leading '-'\n",
    "print(str.rstrip(\"-\"))#delete all the trailing '-'"
   ]
  },
  {
   "cell_type": "code",
   "execution_count": null,
   "id": "c7372afb",
   "metadata": {},
   "outputs": [],
   "source": [
    "str=\"global warming\"\n",
    "print(str[-1:9:-1])#/str[-1:-5:-1]\n",
    "print(str[-4:])"
   ]
  },
  {
   "cell_type": "code",
   "execution_count": null,
   "id": "7bf1ecad",
   "metadata": {},
   "outputs": [],
   "source": [
    "#numpy\n",
    "import numpy as np#NumPy is the fundamental package for scientific computing in Python."
   ]
  },
  {
   "cell_type": "code",
   "execution_count": null,
   "id": "2c741153",
   "metadata": {},
   "outputs": [],
   "source": [
    "a=np.array([1,2,3])#1D array\n",
    "\n",
    "c=np.array([[1,2],[3,4]])#2D array\n",
    "d=np.array([[-1,2],[-4,-6]])\n",
    "\n",
    "x=np.array([[1,2,3],[3,4,5],[1,2,3]])#3D array\n",
    "y=np.array([[1,2,3],[2,1,5],[1,2,3]])\n",
    "\n",
    "print(\"\\n\",c+d)#Matrix Addition\n",
    "print(\"\\n\",x*y)#Itemwise multiplication\n",
    "print(\"\\n\",x@y)#Matrix Multiplication"
   ]
  },
  {
   "cell_type": "code",
   "execution_count": null,
   "id": "f433a6f4",
   "metadata": {},
   "outputs": [],
   "source": [
    "b=np.array([[1,2,3],[4,5,6]])\n",
    "print(\"Order of the Matrix is: \",b.shape)#Matrix order\n",
    "\n",
    "b.shape=(3,2)#Changing the Order of Matrix\n",
    "print(\"New order of the Matrix is: \",b.shape)\n",
    "\n",
    "print(\"New Matrix is:\\n\",b)"
   ]
  },
  {
   "cell_type": "code",
   "execution_count": null,
   "id": "d10f5743",
   "metadata": {},
   "outputs": [],
   "source": [
    "a=np.array([1,2,3,4,5,6],ndmin=3)#Modify Matrix Dimention\n",
    "print(a)"
   ]
  },
  {
   "cell_type": "code",
   "execution_count": null,
   "id": "db9d2c66",
   "metadata": {},
   "outputs": [],
   "source": [
    "#Datatype Object(dtype parameter)\n",
    "#dtype obj is constructed using the following syntax:\n",
    "#np.dtype(obj,align,copy)[obj=to be converted to datatype obj;\n",
    "# if align=true adds padding to the field to make it similar C structure;\n",
    "# copy makes a new copy of dtype obj]\n",
    "dt=np.dtype('i4')\n",
    "type(dt)\n"
   ]
  },
  {
   "cell_type": "code",
   "execution_count": null,
   "id": "6c2a24d2",
   "metadata": {},
   "outputs": [],
   "source": [
    "dt=np.dtype([('age','i4')])\n",
    "x=np.dtype([('name','S20'),('age','i1')])\n",
    "\n",
    "arr=np.array([(10),(20),(30)],dtype=dt)\n",
    "y=np.array([('abc',10),('def',20),('ghi',30)],dtype=x)\n",
    "\n",
    "print(arr)\n",
    "print(y)"
   ]
  },
  {
   "cell_type": "code",
   "execution_count": null,
   "id": "8fd7fb4b",
   "metadata": {},
   "outputs": [],
   "source": [
    "a=np.arange(24)#An array of evenly spaced numbers\n",
    "print(\"The array is: \",a)\n",
    "\n",
    "b=a.reshape(3,2,4)#Makes matrix using array elements with (no. of matrices,row,col)\n",
    "print(\"\\nThe matrices are:\\n\",b)"
   ]
  },
  {
   "cell_type": "code",
   "execution_count": null,
   "id": "aa6fcfe6",
   "metadata": {},
   "outputs": [],
   "source": [
    "x=np.zeros([3,3],dtype='i4')#null matrix\n",
    "print(x)\n",
    "\n",
    "y=np.ones([3,3],dtype='i4')\n",
    "print(y)"
   ]
  },
  {
   "cell_type": "code",
   "execution_count": null,
   "id": "ad95fcc0",
   "metadata": {},
   "outputs": [],
   "source": [
    "x=np.zeros((2,2),dtype=[('x','i4'),('y','i4')])\n",
    "y=np.ones((2,2),dtype=[('x','i4'),('y','i4')])\n",
    "\n",
    "print(x)\n",
    "print(y)"
   ]
  },
  {
   "cell_type": "code",
   "execution_count": null,
   "id": "754d7325",
   "metadata": {},
   "outputs": [],
   "source": [
    "x=[1,2,3]\n",
    "a=np.asarray(x,dtype=float)#convert list/tuple to array\n",
    "print(a)"
   ]
  },
  {
   "cell_type": "code",
   "execution_count": null,
   "id": "fb7de426",
   "metadata": {},
   "outputs": [],
   "source": [
    "f=np.frombuffer(\"Hello World\",dtype='i4')\n",
    "print(f)    "
   ]
  },
  {
   "cell_type": "code",
   "execution_count": null,
   "id": "5334558c",
   "metadata": {},
   "outputs": [],
   "source": [
    "a=np.arange(10)\n",
    "print(a)\n",
    "\n",
    "s=np.sqrt(a)\n",
    "sum=np.sum(a)\n",
    "\n",
    "print(s)\n",
    "print(sum)\n",
    "\n",
    "print(np.max(a))\n",
    "print(np.min(a))\n",
    "print(np.mean(a))\n",
    "print(np.median(a))\n",
    "print(np.std(a))#standard deviation\n",
    "print(np.cumsum(a))#cumulative sum"
   ]
  },
  {
   "cell_type": "code",
   "execution_count": null,
   "id": "ba77c6f2",
   "metadata": {},
   "outputs": [],
   "source": [
    "a=np.array([[1,2],[3,4]])\n",
    "\n",
    "print(np.transpose(a))\n",
    "\n",
    "print(np.max(a,axis=0))#find max row wise\n",
    "print(np.max(a,axis=1))#find max column wise\n",
    "\n",
    "print(np.mean(a,axis=0))\n",
    "print(np.mean(a,axis=1))\n",
    "\n",
    "print(np.median(a,axis=0))\n",
    "print(np.median(a,axis=1))"
   ]
  },
  {
   "cell_type": "code",
   "execution_count": null,
   "id": "cef2126d",
   "metadata": {},
   "outputs": [],
   "source": [
    "a=np.arange(1,13)\n",
    "b=a.reshape(3,4)\n",
    "print(b)\n",
    "print(b[0:3,(1,2,3)])#print columns 1,2,3 from row 0 to 3\n",
    "print(b[0:2,:])\n",
    "print(b[:,(2,3)])#b[row,col]"
   ]
  },
  {
   "cell_type": "code",
   "execution_count": null,
   "id": "d25c0e96",
   "metadata": {},
   "outputs": [],
   "source": [
    "import pandas as gandu"
   ]
  },
  {
   "cell_type": "code",
   "execution_count": null,
   "id": "bb05ec99",
   "metadata": {},
   "outputs": [],
   "source": [
    "#pandas dataframe with 2D list\n",
    "l=[['abc',39],['cde',43],['xyz',28]]\n",
    "\n",
    "df=gandu.DataFrame(l,columns=['Name','Age'])\n",
    "\n",
    "print(df)"
   ]
  },
  {
   "cell_type": "code",
   "execution_count": null,
   "id": "082d9480",
   "metadata": {},
   "outputs": [],
   "source": [
    "dct={'Subject':['phy','chm','mth'],'Marks':['20','30','40']}\n",
    "df=gandu.DataFrame(dct)\n",
    "print(df)"
   ]
  },
  {
   "cell_type": "code",
   "execution_count": null,
   "id": "1187d18c",
   "metadata": {},
   "outputs": [],
   "source": [
    "dct={'Name':['Tushar','Aakash','Rishav','Abhrajit','Raj'],'Physics':[20,30,40,50,60]}\n",
    "df=gandu.DataFrame(dct)\n",
    "print(df)"
   ]
  },
  {
   "cell_type": "code",
   "execution_count": null,
   "id": "2c115036",
   "metadata": {},
   "outputs": [],
   "source": [
    "dct={'Name':['Tushar','Aakash','Rishav','Abhrajit','Raj'],'Physics':[20,30,40,50,60]}\n",
    "df=gandu.Series(dct)\n",
    "print(df)"
   ]
  },
  {
   "cell_type": "code",
   "execution_count": null,
   "id": "3010a46a",
   "metadata": {},
   "outputs": [],
   "source": [
    "from pandas import csv\n",
    "\n",
    "data=read_csv(\"data.csv\")\n",
    "\n",
    "\n",
    "\"\"\"print(data,\"\\n\")\n",
    "print(data.head(2),\"\\n\")\n",
    "print(data.tail(2),\"\\n\")\"\"\"\n",
    "\n",
    "arr=data.values\n",
    "\n",
    "marks=arr[:,1:4]\n",
    "\n",
    "\"\"\"print(marks)\n",
    "print(marks[0].sum())\n",
    "print(marks.size)\n",
    "print(marks.shape[0])\"\"\"\n",
    "\n",
    "\"\"\"for i in range(marks.shape[0]):\n",
    "    a=marks[i].sum()\n",
    "    arr[i,4]=a\n",
    "\n",
    "#names=['Name','Physics','Chemistry','Maths','Total']\n",
    "df=gandu.DataFrame(arr,columns=data.columns)\n",
    "#print(df)\n",
    "\n",
    "#df.to_csv(\"data.csv\")\"\"\"\n",
    "\n",
    "print(data.describe())\n",
    "data.corr(method='pearson')"
   ]
  },
  {
   "cell_type": "code",
   "execution_count": null,
   "id": "4e8ebf12",
   "metadata": {},
   "outputs": [],
   "source": [
    "from matplotlib import pyplot\n",
    "from pandas import read_csv\n",
    "from numpy import set_printoptions\n",
    "from pandas.plotting import scatter_matrix\n",
    "from sklearn.preprocessing import MinMaxScaler\n",
    "from sklearn.preprocessing import StandardScaler\n",
    "from sklearn.preprocessing import Binarizer\n",
    "from sklearn.preprocessing import Normalizer"
   ]
  },
  {
   "cell_type": "code",
   "execution_count": null,
   "id": "0f048e05",
   "metadata": {},
   "outputs": [],
   "source": [
    "filename='iris.csv'\n",
    "data=read_csv(filename)\n",
    "data.hist()\n",
    "pyplot.show()"
   ]
  },
  {
   "cell_type": "code",
   "execution_count": null,
   "id": "9838cb14",
   "metadata": {},
   "outputs": [],
   "source": [
    "filename='pima.csv'\n",
    "data=read_csv(filename)\n",
    "#data.hist()\n",
    "data.plot(kind='density',subplots=True,layout=(3,3))\n",
    "data.plot(kind='box',subplots=True,layout=(3,3))\n",
    "#scatter_matrix(data)\n",
    "pyplot.show()"
   ]
  },
  {
   "cell_type": "code",
   "execution_count": null,
   "id": "f09912b8",
   "metadata": {},
   "outputs": [],
   "source": [
    "filename='pima.csv'\n",
    "data=read_csv(filename)\n",
    "arr=data.values\n",
    "x=arr[:,0:8]\n",
    "scaler=MinMaxScaler(feature_range=(0,1))\n",
    "rescaledata=scaler.fit_transform(x)\n",
    "set_printoptions(precision=3)\n",
    "print(rescaledata[:,2])"
   ]
  },
  {
   "cell_type": "code",
   "execution_count": null,
   "id": "cc6637a8",
   "metadata": {},
   "outputs": [],
   "source": [
    "filename='pima.csv'\n",
    "data=read_csv(filename)\n",
    "arr=data.values\n",
    "x=arr[:,0:8]\n",
    "\n",
    "scaler=StandardScaler().fit(x)\n",
    "rescaledata=scaler.transform(x)\n",
    "print(rescaledata)"
   ]
  },
  {
   "cell_type": "code",
   "execution_count": null,
   "id": "6bd43e8b",
   "metadata": {},
   "outputs": [],
   "source": [
    "scaler=Binarizer(threshold=6).fit(x)\n",
    "rescaledata=scaler.transform(x)\n",
    "print(rescaledata)"
   ]
  },
  {
   "cell_type": "code",
   "execution_count": null,
   "id": "59a14c92",
   "metadata": {},
   "outputs": [],
   "source": [
    "scaler=Normalizer().fit(x)\n",
    "rescaledata=scaler.transform(x)\n",
    "print(rescaledata)"
   ]
  },
  {
   "cell_type": "code",
   "execution_count": null,
   "id": "dcab3fe8",
   "metadata": {},
   "outputs": [],
   "source": []
  }
 ],
 "metadata": {
  "interpreter": {
   "hash": "47d07805017818fe819d54216b72a299446c942bfaef9f2faeadc41e1b7882da"
  },
  "kernelspec": {
   "display_name": "Python 3 (ipykernel)",
   "language": "python",
   "name": "python3"
  },
  "language_info": {
   "codemirror_mode": {
    "name": "ipython",
    "version": 3
   },
   "file_extension": ".py",
   "mimetype": "text/x-python",
   "name": "python",
   "nbconvert_exporter": "python",
   "pygments_lexer": "ipython3",
   "version": "3.9.7"
  },
  "vscode": {
   "interpreter": {
    "hash": "c5e844140b0ef273868662dafcc4b71806c603a7af8c17d0d208eae528d8a6a2"
   }
  }
 },
 "nbformat": 4,
 "nbformat_minor": 5
}
