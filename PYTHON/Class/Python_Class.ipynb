{
 "cells": [
  {
   "cell_type": "code",
   "execution_count": null,
   "id": "107ae4f0",
   "metadata": {},
   "outputs": [],
   "source": [
    "def add(a,b):\n",
    "    return(a+b)\n",
    "\n",
    "print(add(5,6),add(\"Tushar\",\" Sarkar\"),add(10,10.656))"
   ]
  },
  {
   "cell_type": "code",
   "execution_count": null,
   "id": "61be990c",
   "metadata": {},
   "outputs": [],
   "source": [
    "import math\n",
    "def circle(r):\n",
    "    return(math.pi*r**2)\n",
    "    \n",
    "print(circle(5))"
   ]
  },
  {
   "cell_type": "code",
   "execution_count": null,
   "id": "87d336ac",
   "metadata": {},
   "outputs": [],
   "source": [
    "l=[10,20,30,6,0,45,20]\n",
    "l[1:6]\n",
    "l[-3]\n",
    "l[::2]\n",
    "l[::]\n",
    "l[4:]\n",
    "l[:]\n",
    "l[-1:-4:-1]\n",
    "l.insert(8,100)\n",
    "l[:]"
   ]
  },
  {
   "cell_type": "code",
   "execution_count": null,
   "id": "466461d5",
   "metadata": {},
   "outputs": [],
   "source": [
    "l1=[20,30,32]\n",
    "l=[10,20,30,6,0,45,20]\n",
    "l.extend(l1)\n",
    "l[:]\n",
    "l.pop()\n",
    "l.pop(1)\n",
    "l.remove(30)\n",
    "l[:]"
   ]
  },
  {
   "cell_type": "code",
   "execution_count": null,
   "id": "9929f0d7",
   "metadata": {},
   "outputs": [],
   "source": [
    "l1=[]\n",
    "l=[10,20,30,6,0,45,20]\n",
    "for i in range(len(l)):\n",
    "    if(l.count(l[i])>1):\n",
    "        if(l1.count(l[i])<1):\n",
    "            l1.append(l[i])\n",
    "        \n",
    "print(\"The Duplicates are:\",l1)\n"
   ]
  },
  {
   "cell_type": "code",
   "execution_count": null,
   "id": "474a5eec",
   "metadata": {},
   "outputs": [],
   "source": [
    "l=[1,2,3]\n",
    "l1=[]\n",
    "\n",
    "for i in range(len(l)):\n",
    "    l1.append(sum(l[:i+1]))\n",
    "        \n",
    "print(\"The New array is:\",l1[:])"
   ]
  },
  {
   "cell_type": "code",
   "execution_count": null,
   "id": "d260f658",
   "metadata": {
    "scrolled": true
   },
   "outputs": [],
   "source": [
    "l=[]\n",
    "print(\"Enter the Name of the Students: \")\n",
    "\n",
    "for i in range(5):\n",
    "    l.append(input());\n",
    "print(\"The List is:\",l[:])\n",
    "\n",
    "l.append(input(\"Enter another Name: \"))\n",
    "print(\"The new List is:\",l[:])\n",
    "\n",
    "index=int(input(\"Enter the Index:\"))\n",
    "print(\"The Name in the Index is:\",l[index])\n",
    "\n",
    "l1=[\"Kamal\",\"Sanjana\"]\n",
    "l=l1+l\n",
    "print(\"New list after adding the new names:\",l)\n",
    "\n",
    "name=input(\"Enter a Name to find or remove: \")\n",
    "if name in l:\n",
    "    l.remove(name)\n",
    "else:\n",
    "    l.append(name)\n",
    "    \n",
    "l2=l[-1::-1]\n",
    "print(\"Original List:\",l[:])\n",
    "print(\"Reversed List:\",l2[:])\n",
    "\n",
    "l.remove(l[-1])\n",
    "print(\"After removing last element:\",l[:])"
   ]
  },
  {
   "cell_type": "code",
   "execution_count": null,
   "id": "6fca4c26",
   "metadata": {},
   "outputs": [],
   "source": [
    "l1=[10,20,30]\n",
    "l2=[50,60,302,502]\n",
    "l3=[];i=0;j=0\n",
    "\n",
    "while i<len(l1) and j<len(l2):\n",
    "        if(l1[i]>l2[j]):\n",
    "            l3.append(l2[j]);\n",
    "            j=j+1\n",
    "        elif(l1[i]<l2[j]):\n",
    "            l3.append(l1[i])\n",
    "            i=i+1\n",
    "        else:\n",
    "            l3.append(l1[i])\n",
    "            l3.append(l1[i])\n",
    "            i=i+1\n",
    "            j=j+1\n",
    " \n",
    "while i<len(l1):\n",
    "    l3.append(l1[i])\n",
    "    i=i+1\n",
    "\n",
    "while j<len(l2):\n",
    "    l3.append(l2[j])\n",
    "    j=j+1\n",
    "\n",
    "l3[:]"
   ]
  },
  {
   "cell_type": "code",
   "execution_count": null,
   "id": "2867e2bd",
   "metadata": {},
   "outputs": [],
   "source": [
    "#Matrix addition\n",
    "l1=[[1,2],[3,4]]\n",
    "l2=[[2,6],[-2,4]]\n",
    "l=[[],[]]\n",
    "for i in range(2):\n",
    "    for j in range(2):\n",
    "        l[i].append(l1[i][j]+l2[i][j])\n",
    "\n",
    "l[:]"
   ]
  },
  {
   "cell_type": "code",
   "execution_count": null,
   "id": "e72eed18",
   "metadata": {},
   "outputs": [],
   "source": [
    "#Dictionary\n",
    "emp={'E1':[30,200,'Tushar'],'E2':[10,30,'Aakash'],'E3':[10,1,'Abhrajit']}\n",
    "e=emp#creating reference\n",
    "f=emp.copy()#copying the values\n",
    "emp.pop('E3')#delete the last element\n",
    "print(emp)\n",
    "print(emp.keys())\n",
    "l=list(emp.keys())\n",
    "print(emp[l[0]][2])\n",
    "print(emp['E1'][1])\n",
    "print(emp.items())\n",
    "print(emp.values())"
   ]
  },
  {
   "cell_type": "code",
   "execution_count": null,
   "metadata": {},
   "outputs": [],
   "source": [
    "\"\"\"WAP to input 10 names and ph no. to store in a dictioanary and to input any name and to print the ph no. of\n",
    "the particular name\"\"\"\n",
    "\n",
    "PhoneBook=dict()\n",
    "\n",
    "for i in range(3):\n",
    "    name=input(\"Enter the name:\")\n",
    "    PhoneBook[name]=int(input(\"Enter the Number:\"))\n",
    "\n",
    "print(PhoneBook)"
   ]
  },
  {
   "cell_type": "code",
   "execution_count": null,
   "id": "78c5f303",
   "metadata": {},
   "outputs": [],
   "source": [
    "#Escape Sequence print\n",
    "print(\"\\\\n\")#add \\ before escape sequence to print it\n",
    "print(\"i like gita\\\\'s pink dress\")\n"
   ]
  },
  {
   "cell_type": "code",
   "execution_count": null,
   "id": "749fd72a",
   "metadata": {},
   "outputs": [],
   "source": [
    "str=\"Tushar\"\n",
    "str=str+\" Sarkar\"\n",
    "print(str)\n",
    "'T' in str#check if 'T' is in str\n",
    "print(str.upper())\n",
    "str.find('har')\n",
    "str.isalnum()\n",
    "str.strip()\n",
    "str.split()\n",
    "str.replace('Sarkar','SARKAR')\n",
    "'%'.join(str)"
   ]
  },
  {
   "cell_type": "code",
   "execution_count": null,
   "id": "64ee4581",
   "metadata": {},
   "outputs": [],
   "source": [
    "#WAP to print the string in reverse\n",
    "str=input(\"Enter the string:\")\n",
    "\n",
    "print(\"Reversed String:\",str[-1::-1])"
   ]
  },
  {
   "cell_type": "code",
   "execution_count": null,
   "id": "cb821f9b",
   "metadata": {},
   "outputs": [],
   "source": [
    "#WAP to find palindrome\n",
    "x=input(\"Enter the Number/String:\")\n",
    "\n",
    "if x.lower()==x.lower()[-1::-1]:\n",
    "    print(x,\"is Palindrome\")\n",
    "else:\n",
    "    print(x,\"is not Palindrome\")"
   ]
  },
  {
   "cell_type": "code",
   "execution_count": null,
   "id": "8f518f34",
   "metadata": {},
   "outputs": [],
   "source": [
    "#wap to split the string\n",
    "str=\"Successor\"\n",
    "str.split('s')"
   ]
  },
  {
   "cell_type": "code",
   "execution_count": null,
   "id": "327e0fc1",
   "metadata": {},
   "outputs": [],
   "source": [
    "#Pattern\n",
    "for i in range(1,6):\n",
    "    for j in range(i):\n",
    "        print(i,end=\"\")\n",
    "    print(\"\\n\")"
   ]
  },
  {
   "cell_type": "code",
   "execution_count": null,
   "id": "e2507e39",
   "metadata": {},
   "outputs": [],
   "source": [
    "str=\"---xx-xx---\"\n",
    "print(str.strip(\"-\"))#delete all the leading and trailing '-'\n",
    "print(str.lstrip(\"-\"))#delete all the leading '-'\n",
    "print(str.rstrip(\"-\"))#delete all the trailing '-'"
   ]
  },
  {
   "cell_type": "code",
   "execution_count": null,
   "id": "c7372afb",
   "metadata": {},
   "outputs": [],
   "source": [
    "str=\"global warming\"\n",
    "print(str[-1:9:-1])#/str[-1:-5:-1]\n",
    "print(str[-4:])"
   ]
  }
 ],
 "metadata": {
  "kernelspec": {
   "display_name": "Python 3 (ipykernel)",
   "language": "python",
   "name": "python3"
  },
  "language_info": {
   "codemirror_mode": {
    "name": "ipython",
    "version": 3
   },
   "file_extension": ".py",
   "mimetype": "text/x-python",
   "name": "python",
   "nbconvert_exporter": "python",
   "pygments_lexer": "ipython3",
   "version": "3.9.7"
  }
 },
 "nbformat": 4,
 "nbformat_minor": 5
}
